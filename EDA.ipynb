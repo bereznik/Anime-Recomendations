{
  "nbformat": 4,
  "nbformat_minor": 0,
  "metadata": {
    "kernelspec": {
      "display_name": "Python 3",
      "language": "python",
      "name": "python3"
    },
    "language_info": {
      "codemirror_mode": {
        "name": "ipython",
        "version": 3
      },
      "file_extension": ".py",
      "mimetype": "text/x-python",
      "name": "python",
      "nbconvert_exporter": "python",
      "pygments_lexer": "ipython3",
      "version": "3.7.7"
    },
    "colab": {
      "name": "Anime analysis.ipynb",
      "provenance": [],
      "toc_visible": true,
      "include_colab_link": true
    }
  },
  "cells": [
    {
      "cell_type": "markdown",
      "metadata": {
        "id": "view-in-github",
        "colab_type": "text"
      },
      "source": [
        "<a href=\"https://colab.research.google.com/github/bereznik/Anime-Recommendations/blob/master/EDA.ipynb\" target=\"_parent\"><img src=\"https://colab.research.google.com/assets/colab-badge.svg\" alt=\"Open In Colab\"/></a>"
      ]
    },
    {
      "cell_type": "code",
      "metadata": {
        "_cell_guid": "b1076dfc-b9ad-4769-8c92-a6c4dae69d19",
        "_uuid": "8f2839f25d086af736a60e9eeb907d3b93b6e0e5",
        "id": "X9M1kK0DGMW2",
        "colab_type": "code",
        "colab": {}
      },
      "source": [
        "# This Python 3 environment comes with many helpful analytics libraries installed\n",
        "# It is defined by the kaggle/python Docker image: https://github.com/kaggle/docker-python\n",
        "# For example, here's several helpful packages to load\n",
        "\n",
        "import numpy as np # linear algebra\n",
        "import pandas as pd # data processing, CSV file I/O (e.g. pd.read_csv)\n",
        "import math\n",
        "from matplotlib import pyplot as plt\n",
        "plt.rcParams['axes.facecolor'] = 'white'\n",
        "# Input data files are available in the read-only \"../input/\" directory\n",
        "# For example, running this (by clicking run or pressing Shift+Enter) will list all files under the input directory\n",
        "plt.style.use('default')\n",
        "import os\n",
        "for dirname, _, filenames in os.walk('/kaggle/input'):\n",
        "    for filename in filenames:\n",
        "        print(os.path.join(dirname, filename))\n",
        "\n",
        "# You can write up to 5GB to the current directory (/kaggle/working/) that gets preserved as output when you create a version using \"Save & Run All\" \n",
        "# You can also write temporary files to /kaggle/temp/, but they won't be saved outside of the current session"
      ],
      "execution_count": 4,
      "outputs": []
    },
    {
      "cell_type": "markdown",
      "metadata": {
        "id": "RDGjvABoGMW7",
        "colab_type": "text"
      },
      "source": [
        "## Given someone liked some Animes, what would be other Animes that this person might like?"
      ]
    },
    {
      "cell_type": "code",
      "metadata": {
        "_cell_guid": "79c7e3d0-c299-4dcb-8224-4455121ee9b0",
        "_uuid": "d629ff2d2480ee46fbb7e2d37f6b5fab8052498a",
        "id": "31cCb8q-GMW8",
        "colab_type": "code",
        "colab": {}
      },
      "source": [
        "anime_original = pd.read_csv('/content/drive/My Drive/Anime analysis/anime.csv')\n",
        "rating_original = pd.read_csv('/content/drive/My Drive/Anime analysis/rating.csv')"
      ],
      "execution_count": 5,
      "outputs": []
    },
    {
      "cell_type": "code",
      "metadata": {
        "id": "wq8kyDXoGMXA",
        "colab_type": "code",
        "colab": {
          "base_uri": "https://localhost:8080/",
          "height": 34
        },
        "outputId": "fd4816f8-fb42-47ed-d537-4744259b2840"
      },
      "source": [
        "np.unique(rating_original.anime_id.values).shape"
      ],
      "execution_count": 6,
      "outputs": [
        {
          "output_type": "execute_result",
          "data": {
            "text/plain": [
              "(11200,)"
            ]
          },
          "metadata": {
            "tags": []
          },
          "execution_count": 6
        }
      ]
    },
    {
      "cell_type": "code",
      "metadata": {
        "id": "6RhBanQPGMXE",
        "colab_type": "code",
        "colab": {
          "base_uri": "https://localhost:8080/",
          "height": 34
        },
        "outputId": "fb42d533-f58e-4cfc-cec1-1f1e88b417ef"
      },
      "source": [
        "rating_original.shape"
      ],
      "execution_count": 7,
      "outputs": [
        {
          "output_type": "execute_result",
          "data": {
            "text/plain": [
              "(7813737, 3)"
            ]
          },
          "metadata": {
            "tags": []
          },
          "execution_count": 7
        }
      ]
    },
    {
      "cell_type": "code",
      "metadata": {
        "id": "ub7Q1XjgGMXI",
        "colab_type": "code",
        "colab": {
          "base_uri": "https://localhost:8080/",
          "height": 204
        },
        "outputId": "52d0613a-c36e-4719-f04d-cb498eace1ad"
      },
      "source": [
        "anime_original.head()\n"
      ],
      "execution_count": 8,
      "outputs": [
        {
          "output_type": "execute_result",
          "data": {
            "text/html": [
              "<div>\n",
              "<style scoped>\n",
              "    .dataframe tbody tr th:only-of-type {\n",
              "        vertical-align: middle;\n",
              "    }\n",
              "\n",
              "    .dataframe tbody tr th {\n",
              "        vertical-align: top;\n",
              "    }\n",
              "\n",
              "    .dataframe thead th {\n",
              "        text-align: right;\n",
              "    }\n",
              "</style>\n",
              "<table border=\"1\" class=\"dataframe\">\n",
              "  <thead>\n",
              "    <tr style=\"text-align: right;\">\n",
              "      <th></th>\n",
              "      <th>anime_id</th>\n",
              "      <th>name</th>\n",
              "      <th>genre</th>\n",
              "      <th>type</th>\n",
              "      <th>episodes</th>\n",
              "      <th>rating</th>\n",
              "      <th>members</th>\n",
              "    </tr>\n",
              "  </thead>\n",
              "  <tbody>\n",
              "    <tr>\n",
              "      <th>0</th>\n",
              "      <td>32281</td>\n",
              "      <td>Kimi no Na wa.</td>\n",
              "      <td>Drama, Romance, School, Supernatural</td>\n",
              "      <td>Movie</td>\n",
              "      <td>1</td>\n",
              "      <td>9.37</td>\n",
              "      <td>200630</td>\n",
              "    </tr>\n",
              "    <tr>\n",
              "      <th>1</th>\n",
              "      <td>5114</td>\n",
              "      <td>Fullmetal Alchemist: Brotherhood</td>\n",
              "      <td>Action, Adventure, Drama, Fantasy, Magic, Mili...</td>\n",
              "      <td>TV</td>\n",
              "      <td>64</td>\n",
              "      <td>9.26</td>\n",
              "      <td>793665</td>\n",
              "    </tr>\n",
              "    <tr>\n",
              "      <th>2</th>\n",
              "      <td>28977</td>\n",
              "      <td>Gintama°</td>\n",
              "      <td>Action, Comedy, Historical, Parody, Samurai, S...</td>\n",
              "      <td>TV</td>\n",
              "      <td>51</td>\n",
              "      <td>9.25</td>\n",
              "      <td>114262</td>\n",
              "    </tr>\n",
              "    <tr>\n",
              "      <th>3</th>\n",
              "      <td>9253</td>\n",
              "      <td>Steins;Gate</td>\n",
              "      <td>Sci-Fi, Thriller</td>\n",
              "      <td>TV</td>\n",
              "      <td>24</td>\n",
              "      <td>9.17</td>\n",
              "      <td>673572</td>\n",
              "    </tr>\n",
              "    <tr>\n",
              "      <th>4</th>\n",
              "      <td>9969</td>\n",
              "      <td>Gintama&amp;#039;</td>\n",
              "      <td>Action, Comedy, Historical, Parody, Samurai, S...</td>\n",
              "      <td>TV</td>\n",
              "      <td>51</td>\n",
              "      <td>9.16</td>\n",
              "      <td>151266</td>\n",
              "    </tr>\n",
              "  </tbody>\n",
              "</table>\n",
              "</div>"
            ],
            "text/plain": [
              "   anime_id                              name  ... rating members\n",
              "0     32281                    Kimi no Na wa.  ...   9.37  200630\n",
              "1      5114  Fullmetal Alchemist: Brotherhood  ...   9.26  793665\n",
              "2     28977                          Gintama°  ...   9.25  114262\n",
              "3      9253                       Steins;Gate  ...   9.17  673572\n",
              "4      9969                     Gintama&#039;  ...   9.16  151266\n",
              "\n",
              "[5 rows x 7 columns]"
            ]
          },
          "metadata": {
            "tags": []
          },
          "execution_count": 8
        }
      ]
    },
    {
      "cell_type": "code",
      "metadata": {
        "id": "yetg6qL7GMXL",
        "colab_type": "code",
        "colab": {
          "base_uri": "https://localhost:8080/",
          "height": 204
        },
        "outputId": "c525f60d-30a2-4ce8-9ff9-18e54e93cc49"
      },
      "source": [
        "rating_original.head()"
      ],
      "execution_count": 9,
      "outputs": [
        {
          "output_type": "execute_result",
          "data": {
            "text/html": [
              "<div>\n",
              "<style scoped>\n",
              "    .dataframe tbody tr th:only-of-type {\n",
              "        vertical-align: middle;\n",
              "    }\n",
              "\n",
              "    .dataframe tbody tr th {\n",
              "        vertical-align: top;\n",
              "    }\n",
              "\n",
              "    .dataframe thead th {\n",
              "        text-align: right;\n",
              "    }\n",
              "</style>\n",
              "<table border=\"1\" class=\"dataframe\">\n",
              "  <thead>\n",
              "    <tr style=\"text-align: right;\">\n",
              "      <th></th>\n",
              "      <th>user_id</th>\n",
              "      <th>anime_id</th>\n",
              "      <th>rating</th>\n",
              "    </tr>\n",
              "  </thead>\n",
              "  <tbody>\n",
              "    <tr>\n",
              "      <th>0</th>\n",
              "      <td>1</td>\n",
              "      <td>20</td>\n",
              "      <td>-1</td>\n",
              "    </tr>\n",
              "    <tr>\n",
              "      <th>1</th>\n",
              "      <td>1</td>\n",
              "      <td>24</td>\n",
              "      <td>-1</td>\n",
              "    </tr>\n",
              "    <tr>\n",
              "      <th>2</th>\n",
              "      <td>1</td>\n",
              "      <td>79</td>\n",
              "      <td>-1</td>\n",
              "    </tr>\n",
              "    <tr>\n",
              "      <th>3</th>\n",
              "      <td>1</td>\n",
              "      <td>226</td>\n",
              "      <td>-1</td>\n",
              "    </tr>\n",
              "    <tr>\n",
              "      <th>4</th>\n",
              "      <td>1</td>\n",
              "      <td>241</td>\n",
              "      <td>-1</td>\n",
              "    </tr>\n",
              "  </tbody>\n",
              "</table>\n",
              "</div>"
            ],
            "text/plain": [
              "   user_id  anime_id  rating\n",
              "0        1        20      -1\n",
              "1        1        24      -1\n",
              "2        1        79      -1\n",
              "3        1       226      -1\n",
              "4        1       241      -1"
            ]
          },
          "metadata": {
            "tags": []
          },
          "execution_count": 9
        }
      ]
    },
    {
      "cell_type": "markdown",
      "metadata": {
        "id": "ZWrDnDPqGMXO",
        "colab_type": "text"
      },
      "source": [
        "# EDA - Exploratory Data Analysis"
      ]
    },
    {
      "cell_type": "code",
      "metadata": {
        "id": "ywEt_S50GMXP",
        "colab_type": "code",
        "colab": {}
      },
      "source": [
        "anime = anime_original.copy()\n",
        "rating = rating_original.copy()"
      ],
      "execution_count": 10,
      "outputs": []
    },
    {
      "cell_type": "code",
      "metadata": {
        "id": "7P9feVe7GMXT",
        "colab_type": "code",
        "colab": {
          "base_uri": "https://localhost:8080/",
          "height": 51
        },
        "outputId": "8ba84394-03a5-4f49-f936-405cd85623a1"
      },
      "source": [
        "print(anime.shape)\n",
        "print(rating.shape)"
      ],
      "execution_count": 11,
      "outputs": [
        {
          "output_type": "stream",
          "text": [
            "(12294, 7)\n",
            "(7813737, 3)\n"
          ],
          "name": "stdout"
        }
      ]
    },
    {
      "cell_type": "code",
      "metadata": {
        "id": "BXSD_51lGMXW",
        "colab_type": "code",
        "colab": {
          "base_uri": "https://localhost:8080/",
          "height": 204
        },
        "outputId": "bfeb3393-0128-442e-d9f5-2e86f6b6f121"
      },
      "source": [
        "anime.head()"
      ],
      "execution_count": 12,
      "outputs": [
        {
          "output_type": "execute_result",
          "data": {
            "text/html": [
              "<div>\n",
              "<style scoped>\n",
              "    .dataframe tbody tr th:only-of-type {\n",
              "        vertical-align: middle;\n",
              "    }\n",
              "\n",
              "    .dataframe tbody tr th {\n",
              "        vertical-align: top;\n",
              "    }\n",
              "\n",
              "    .dataframe thead th {\n",
              "        text-align: right;\n",
              "    }\n",
              "</style>\n",
              "<table border=\"1\" class=\"dataframe\">\n",
              "  <thead>\n",
              "    <tr style=\"text-align: right;\">\n",
              "      <th></th>\n",
              "      <th>anime_id</th>\n",
              "      <th>name</th>\n",
              "      <th>genre</th>\n",
              "      <th>type</th>\n",
              "      <th>episodes</th>\n",
              "      <th>rating</th>\n",
              "      <th>members</th>\n",
              "    </tr>\n",
              "  </thead>\n",
              "  <tbody>\n",
              "    <tr>\n",
              "      <th>0</th>\n",
              "      <td>32281</td>\n",
              "      <td>Kimi no Na wa.</td>\n",
              "      <td>Drama, Romance, School, Supernatural</td>\n",
              "      <td>Movie</td>\n",
              "      <td>1</td>\n",
              "      <td>9.37</td>\n",
              "      <td>200630</td>\n",
              "    </tr>\n",
              "    <tr>\n",
              "      <th>1</th>\n",
              "      <td>5114</td>\n",
              "      <td>Fullmetal Alchemist: Brotherhood</td>\n",
              "      <td>Action, Adventure, Drama, Fantasy, Magic, Mili...</td>\n",
              "      <td>TV</td>\n",
              "      <td>64</td>\n",
              "      <td>9.26</td>\n",
              "      <td>793665</td>\n",
              "    </tr>\n",
              "    <tr>\n",
              "      <th>2</th>\n",
              "      <td>28977</td>\n",
              "      <td>Gintama°</td>\n",
              "      <td>Action, Comedy, Historical, Parody, Samurai, S...</td>\n",
              "      <td>TV</td>\n",
              "      <td>51</td>\n",
              "      <td>9.25</td>\n",
              "      <td>114262</td>\n",
              "    </tr>\n",
              "    <tr>\n",
              "      <th>3</th>\n",
              "      <td>9253</td>\n",
              "      <td>Steins;Gate</td>\n",
              "      <td>Sci-Fi, Thriller</td>\n",
              "      <td>TV</td>\n",
              "      <td>24</td>\n",
              "      <td>9.17</td>\n",
              "      <td>673572</td>\n",
              "    </tr>\n",
              "    <tr>\n",
              "      <th>4</th>\n",
              "      <td>9969</td>\n",
              "      <td>Gintama&amp;#039;</td>\n",
              "      <td>Action, Comedy, Historical, Parody, Samurai, S...</td>\n",
              "      <td>TV</td>\n",
              "      <td>51</td>\n",
              "      <td>9.16</td>\n",
              "      <td>151266</td>\n",
              "    </tr>\n",
              "  </tbody>\n",
              "</table>\n",
              "</div>"
            ],
            "text/plain": [
              "   anime_id                              name  ... rating members\n",
              "0     32281                    Kimi no Na wa.  ...   9.37  200630\n",
              "1      5114  Fullmetal Alchemist: Brotherhood  ...   9.26  793665\n",
              "2     28977                          Gintama°  ...   9.25  114262\n",
              "3      9253                       Steins;Gate  ...   9.17  673572\n",
              "4      9969                     Gintama&#039;  ...   9.16  151266\n",
              "\n",
              "[5 rows x 7 columns]"
            ]
          },
          "metadata": {
            "tags": []
          },
          "execution_count": 12
        }
      ]
    },
    {
      "cell_type": "code",
      "metadata": {
        "id": "CCNKcNYrGMXZ",
        "colab_type": "code",
        "colab": {
          "base_uri": "https://localhost:8080/",
          "height": 34
        },
        "outputId": "3131a9fd-93ac-4412-82bb-4997376ffe16"
      },
      "source": [
        "anime.name.value_counts().sum() == anime.shape[0] # -> All the anime at the list are unique!"
      ],
      "execution_count": 13,
      "outputs": [
        {
          "output_type": "execute_result",
          "data": {
            "text/plain": [
              "True"
            ]
          },
          "metadata": {
            "tags": []
          },
          "execution_count": 13
        }
      ]
    },
    {
      "cell_type": "markdown",
      "metadata": {
        "id": "GEjaa4YJGMXg",
        "colab_type": "text"
      },
      "source": [
        "## 1 - Genre"
      ]
    },
    {
      "cell_type": "markdown",
      "metadata": {
        "id": "pSwDZoH1GMXg",
        "colab_type": "text"
      },
      "source": [
        "## Let's analyze the genre column"
      ]
    },
    {
      "cell_type": "markdown",
      "metadata": {
        "id": "06uvxt3hGMXh",
        "colab_type": "text"
      },
      "source": [
        "### An important fact to mention is that a single anime could be classified with more than 1 genre"
      ]
    },
    {
      "cell_type": "code",
      "metadata": {
        "id": "hX2MzvhtGMXh",
        "colab_type": "code",
        "colab": {
          "base_uri": "https://localhost:8080/",
          "height": 34
        },
        "outputId": "4fd4d4dc-6128-4b2e-b52f-8a42b8a4dcbd"
      },
      "source": [
        "list_genres = []\n",
        "\n",
        "for i in range(0,2):\n",
        "    list_genres.append(anime.genre[i])\n",
        "print(list_genres)    \n",
        "\n",
        "# Each anime has multiple genres but they are written as a string, so let's make them a list\n",
        "    "
      ],
      "execution_count": 14,
      "outputs": [
        {
          "output_type": "stream",
          "text": [
            "['Drama, Romance, School, Supernatural', 'Action, Adventure, Drama, Fantasy, Magic, Military, Shounen']\n"
          ],
          "name": "stdout"
        }
      ]
    },
    {
      "cell_type": "code",
      "metadata": {
        "id": "yvHm5vw8GMXl",
        "colab_type": "code",
        "colab": {
          "base_uri": "https://localhost:8080/",
          "height": 221
        },
        "outputId": "229b0f70-d577-492f-bda6-5f92dd701a51"
      },
      "source": [
        "anime.genre = anime.genre.str.split(', ')\n",
        "anime.genre\n",
        "\n",
        "# Now they are lists! "
      ],
      "execution_count": 15,
      "outputs": [
        {
          "output_type": "execute_result",
          "data": {
            "text/plain": [
              "0                   [Drama, Romance, School, Supernatural]\n",
              "1        [Action, Adventure, Drama, Fantasy, Magic, Mil...\n",
              "2        [Action, Comedy, Historical, Parody, Samurai, ...\n",
              "3                                       [Sci-Fi, Thriller]\n",
              "4        [Action, Comedy, Historical, Parody, Samurai, ...\n",
              "                               ...                        \n",
              "12289                                             [Hentai]\n",
              "12290                                             [Hentai]\n",
              "12291                                             [Hentai]\n",
              "12292                                             [Hentai]\n",
              "12293                                             [Hentai]\n",
              "Name: genre, Length: 12294, dtype: object"
            ]
          },
          "metadata": {
            "tags": []
          },
          "execution_count": 15
        }
      ]
    },
    {
      "cell_type": "markdown",
      "metadata": {
        "id": "qZBnjeIKGMXn",
        "colab_type": "text"
      },
      "source": [
        "### Let's make the analysis of the most common genres"
      ]
    },
    {
      "cell_type": "code",
      "metadata": {
        "id": "APKfqI7xGMXn",
        "colab_type": "code",
        "colab": {
          "base_uri": "https://localhost:8080/",
          "height": 68
        },
        "outputId": "aaf7fbbc-6e82-4de1-8418-8db319edcc2b"
      },
      "source": [
        "anime.genre.isnull().value_counts()"
      ],
      "execution_count": 16,
      "outputs": [
        {
          "output_type": "execute_result",
          "data": {
            "text/plain": [
              "False    12232\n",
              "True        62\n",
              "Name: genre, dtype: int64"
            ]
          },
          "metadata": {
            "tags": []
          },
          "execution_count": 16
        }
      ]
    },
    {
      "cell_type": "markdown",
      "metadata": {
        "id": "jEesIwiAGMXq",
        "colab_type": "text"
      },
      "source": [
        "## CreatIing lists with the genre unique values and the quantity in which they appear"
      ]
    },
    {
      "cell_type": "code",
      "metadata": {
        "id": "dlVoPQ4yGMXq",
        "colab_type": "code",
        "colab": {}
      },
      "source": [
        "list_genres = []\n",
        "\n",
        "for j in range(0, len(anime)):\n",
        "    if anime.genre[j] is not np.nan:\n",
        "        n_genre = len(anime.genre[j])\n",
        "        for i in range(0,n_genre):\n",
        "            list_genres.append(anime.genre[j][i])\n",
        "   "
      ],
      "execution_count": 17,
      "outputs": []
    },
    {
      "cell_type": "code",
      "metadata": {
        "id": "i13qG5PVGMXt",
        "colab_type": "code",
        "colab": {}
      },
      "source": [
        "list_genres_array = np.array(list_genres)\n",
        "(unique_list_genres, count_genres) = np.unique(list_genres_array,return_counts = True)"
      ],
      "execution_count": 18,
      "outputs": []
    },
    {
      "cell_type": "markdown",
      "metadata": {
        "id": "AQqahZYKGMXw",
        "colab_type": "text"
      },
      "source": [
        "## Plot the genre and how many animes are of this genre"
      ]
    },
    {
      "cell_type": "code",
      "metadata": {
        "id": "ewd2wTCoGMXw",
        "colab_type": "code",
        "colab": {
          "base_uri": "https://localhost:8080/",
          "height": 574
        },
        "outputId": "91fc1ab2-bd18-49f0-f7fa-7050e6db0bd4"
      },
      "source": [
        "fig = plt.figure(figsize = (12,6))\n",
        "ax = fig.add_subplot()\n",
        "ax.bar(unique_list_genres,count_genres)\n",
        "ax.set_xlabel('Genres')\n",
        "ax.set_ylabel('Quantity of Animes')\n",
        "#ax.set_title('Quantity of Animes')\n",
        "for tick in ax.get_xticklabels():\n",
        "    tick.set_rotation(60)\n",
        "ax.spines['top'].set_visible(False)\n",
        "ax.spines['right'].set_visible(False)"
      ],
      "execution_count": 19,
      "outputs": [
        {
          "output_type": "display_data",
          "data": {
            "image/png": "[encoded data removed]",
            "text/plain": [
              "<Figure size 1200x600 with 1 Axes>"
            ]
          },
          "metadata": {
            "tags": []
          }
        }
      ]
    },
    {
      "cell_type": "markdown",
      "metadata": {
        "id": "MlXwaXQ1GMXz",
        "colab_type": "text"
      },
      "source": [
        "### The vast majority of animes produced are of the following genres:\n",
        "* Comedy\n",
        "* Action\n",
        "* Adventure\n",
        "* Drama\n",
        "* Fantasy\n",
        "* Psychological\n",
        "* Sci-fi\n",
        "* Kids\n",
        "* Shounen\n",
        "\n",
        "Although comedy is much higher, we should note that most anime use comedy consistently throught the story to make it more enjoyable, even though it's not the main focus of the story. This is clearly seen analyzing One Piece."
      ]
    },
    {
      "cell_type": "code",
      "metadata": {
        "id": "zuVS1e78GMX0",
        "colab_type": "code",
        "colab": {
          "base_uri": "https://localhost:8080/",
          "height": 34
        },
        "outputId": "94db9865-da59-4268-9698-705a17cd72d5"
      },
      "source": [
        "for genre in anime.loc[anime.name == 'One Piece','genre']:\n",
        "    print(genre)"
      ],
      "execution_count": 20,
      "outputs": [
        {
          "output_type": "stream",
          "text": [
            "['Action', 'Adventure', 'Comedy', 'Drama', 'Fantasy', 'Shounen', 'Super Power']\n"
          ],
          "name": "stdout"
        }
      ]
    },
    {
      "cell_type": "markdown",
      "metadata": {
        "id": "IV-pv6cnGMX2",
        "colab_type": "text"
      },
      "source": [
        "# 2 - Type"
      ]
    },
    {
      "cell_type": "markdown",
      "metadata": {
        "id": "VGgATMMBGMX3",
        "colab_type": "text"
      },
      "source": [
        "## Refers to the type of the anime shown. A few remarks on that:\n",
        "\n",
        "* OVA: Non Canon Story\n",
        "* ONA: Anime directly released in the Internet"
      ]
    },
    {
      "cell_type": "markdown",
      "metadata": {
        "id": "SKFPoFwNGMX4",
        "colab_type": "text"
      },
      "source": [
        "## Let's make the analysis of the Type column"
      ]
    },
    {
      "cell_type": "code",
      "metadata": {
        "id": "R43QrRLKGMX4",
        "colab_type": "code",
        "colab": {
          "base_uri": "https://localhost:8080/",
          "height": 136
        },
        "outputId": "46030776-7948-43d7-8fc7-a65733de7610"
      },
      "source": [
        "anime.type.value_counts()"
      ],
      "execution_count": 21,
      "outputs": [
        {
          "output_type": "execute_result",
          "data": {
            "text/plain": [
              "TV         3787\n",
              "OVA        3311\n",
              "Movie      2348\n",
              "Special    1676\n",
              "ONA         659\n",
              "Music       488\n",
              "Name: type, dtype: int64"
            ]
          },
          "metadata": {
            "tags": []
          },
          "execution_count": 21
        }
      ]
    },
    {
      "cell_type": "markdown",
      "metadata": {
        "id": "JDpTx0kkGMX6",
        "colab_type": "text"
      },
      "source": [
        "### Plotting this results"
      ]
    },
    {
      "cell_type": "code",
      "metadata": {
        "id": "_lD6GNylGMX7",
        "colab_type": "code",
        "colab": {
          "base_uri": "https://localhost:8080/",
          "height": 472
        },
        "outputId": "016c6ff4-e7c5-45d1-e029-a6d54f00468a"
      },
      "source": [
        "fig = plt.figure()\n",
        "ax = anime.type.value_counts().plot.bar()\n",
        "for tick in ax.get_xticklabels():\n",
        "    tick.set_rotation(0)\n",
        "ax.set_xlabel('Type')\n",
        "ax.set_ylabel('Number')\n",
        "ax.set_title('Types of Animes')\n",
        "ax.spines['top'].set_visible(False)\n",
        "ax.spines['right'].set_visible(False)"
      ],
      "execution_count": 22,
      "outputs": [
        {
          "output_type": "display_data",
          "data": {
            "image/png": "[encoded data removed]",
            "text/plain": [
              "<Figure size 640x480 with 1 Axes>"
            ]
          },
          "metadata": {
            "tags": []
          }
        }
      ]
    },
    {
      "cell_type": "markdown",
      "metadata": {
        "id": "BGNy56IaGMX9",
        "colab_type": "text"
      },
      "source": [
        "### Here we see that the majority of animes are TV shows, as expected. A curious fact is that there are a lot of OVA's too!"
      ]
    },
    {
      "cell_type": "markdown",
      "metadata": {
        "id": "qYF0CsdbGMX-",
        "colab_type": "text"
      },
      "source": [
        "# 3 - Episodes"
      ]
    },
    {
      "cell_type": "markdown",
      "metadata": {
        "id": "OztkrQK-GMX-",
        "colab_type": "text"
      },
      "source": [
        "## Describe the number of episodes (if film = 1)"
      ]
    },
    {
      "cell_type": "markdown",
      "metadata": {
        "id": "wU2LpLCrGMX_",
        "colab_type": "text"
      },
      "source": [
        "### OBS: Anime series that are still airing have a NaN value of #episodes"
      ]
    },
    {
      "cell_type": "markdown",
      "metadata": {
        "id": "2vhNUbrHGMX_",
        "colab_type": "text"
      },
      "source": [
        "### Note that the episodes column is actually a string for each occurence. Let's fix that!"
      ]
    },
    {
      "cell_type": "code",
      "metadata": {
        "id": "S1Ev_L0xGMX_",
        "colab_type": "code",
        "colab": {}
      },
      "source": [
        "anime.episodes = pd.to_numeric(anime.episodes, errors='coerce')"
      ],
      "execution_count": 23,
      "outputs": []
    },
    {
      "cell_type": "code",
      "metadata": {
        "id": "sbjgXdjsGMYC",
        "colab_type": "code",
        "colab": {
          "base_uri": "https://localhost:8080/",
          "height": 221
        },
        "outputId": "4f2349f1-1eaf-44ba-eb59-348e94f4d462"
      },
      "source": [
        "anime.episodes.value_counts( ) # Now they are actual numbers!"
      ],
      "execution_count": 24,
      "outputs": [
        {
          "output_type": "execute_result",
          "data": {
            "text/plain": [
              "1.0       5677\n",
              "2.0       1076\n",
              "12.0       816\n",
              "13.0       572\n",
              "26.0       514\n",
              "          ... \n",
              "120.0        1\n",
              "124.0        1\n",
              "137.0        1\n",
              "243.0        1\n",
              "1306.0       1\n",
              "Name: episodes, Length: 186, dtype: int64"
            ]
          },
          "metadata": {
            "tags": []
          },
          "execution_count": 24
        }
      ]
    },
    {
      "cell_type": "markdown",
      "metadata": {
        "id": "pyfBEqfHGMYF",
        "colab_type": "text"
      },
      "source": [
        "### It doesn't make a lot of sense to graph them seperately because we have a lot of different values. So, let's make some bins!"
      ]
    },
    {
      "cell_type": "code",
      "metadata": {
        "id": "iKdgC6yjGMYF",
        "colab_type": "code",
        "colab": {
          "base_uri": "https://localhost:8080/",
          "height": 431
        },
        "outputId": "f8b54329-37e9-4dc5-ed3b-6d53cee4ec42"
      },
      "source": [
        "b1 = [1]\n",
        "b2 = [2,15]\n",
        "b3 = [16,30]\n",
        "b4 = [31,60]\n",
        "b5 = [61,100]\n",
        "bins = [b1,b2,b3,b4,b5]\n",
        "list_bins = []\n",
        "for i in range(1,5):\n",
        "    n = len(anime.loc[(anime.episodes <= bins[i][1]) & (anime.episodes >= bins[i][0])])\n",
        "    list_bins.append(n)\n",
        "\n",
        "#let's get the first (=1) and the last (>100) \n",
        "\n",
        "list_bins.insert(0,len(anime.loc[anime.episodes == 1]))\n",
        "    \n",
        "list_bins.append(len(anime.loc[anime.episodes > 100]))\n",
        "    \n",
        "#print(list_bins)\n",
        "#print(bins)\n",
        "\n",
        "X = ['1', '2-15', '16-30', '31-60', '61-100', '>100']\n",
        "\n",
        "fig = plt.figure(figsize = (15,6))\n",
        "ax = fig.add_subplot()\n",
        "ax.bar(X,list_bins)\n",
        "ax.set_xlabel('Number of episodes')\n",
        "ax.set_ylabel('Quantity of Animes')\n",
        "ax.set_title('Animes')\n",
        "ax.spines['top'].set_visible(False)\n",
        "ax.spines['right'].set_visible(False)"
      ],
      "execution_count": 33,
      "outputs": [
        {
          "output_type": "display_data",
          "data": {
            "image/png": "[encoded data removed]",
            "text/plain": [
              "<Figure size 1500x600 with 1 Axes>"
            ]
          },
          "metadata": {
            "tags": []
          }
        }
      ]
    },
    {
      "cell_type": "markdown",
      "metadata": {
        "id": "k9cUiqd0GMYI",
        "colab_type": "text"
      },
      "source": [
        "## That's not really fair because all the movies have 1 episode so there is a lot of bias towards the 1 episode Animes. Let's try to plot again only including the TV shows category!"
      ]
    },
    {
      "cell_type": "code",
      "metadata": {
        "id": "cSZ1gdACGMYJ",
        "colab_type": "code",
        "colab": {
          "base_uri": "https://localhost:8080/",
          "height": 431
        },
        "outputId": "b16b7963-1f43-4a85-9542-9f91c16d40a4"
      },
      "source": [
        "b1 = [1]\n",
        "b2 = [2,15]\n",
        "b3 = [16,30]\n",
        "b4 = [31,60]\n",
        "b5 = [61,100]\n",
        "bins = [b1,b2,b3,b4,b5]\n",
        "list_bins = []\n",
        "for i in range(1,5):\n",
        "    n = len(anime.loc[(anime.episodes <= bins[i][1]) & (anime.episodes >= bins[i][0]) & (anime.type == 'TV')])\n",
        "    list_bins.append(n)\n",
        "\n",
        "#let's get the first (=1) and the last (>100) \n",
        "\n",
        "list_bins.insert(0,len(anime.loc[(anime.episodes == 1) & (anime.type == 'TV' )]))\n",
        "    \n",
        "list_bins.append(len(anime.loc[(anime.episodes > 100) & (anime.type == 'TV')]))\n",
        "    \n",
        "#print(list_bins)\n",
        "#print(bins)\n",
        "\n",
        "X = ['1', '2-15', '16-30', '31-60', '61-100', '>100']\n",
        "\n",
        "fig = plt.figure(figsize = (15,6))\n",
        "ax = fig.add_subplot()\n",
        "ax.bar(X,list_bins)\n",
        "ax.set_xlabel('Number of episodes')\n",
        "ax.set_ylabel('Quantity of Animes')\n",
        "ax.set_title(' TV Animes')\n",
        "ax.spines['top'].set_visible(False)\n",
        "ax.spines['right'].set_visible(False)"
      ],
      "execution_count": 34,
      "outputs": [
        {
          "output_type": "display_data",
          "data": {
            "image/png": "[encoded data removed]",
            "text/plain": [
              "<Figure size 1500x600 with 1 Axes>"
            ]
          },
          "metadata": {
            "tags": []
          }
        }
      ]
    },
    {
      "cell_type": "markdown",
      "metadata": {
        "id": "LI98DT_mGMYM",
        "colab_type": "text"
      },
      "source": [
        "### We see that most anime TV shows have less than 15 episodes. We could say that the vast majority of anime shows have 1 season. Note that there are 0 anime TV shows with 1 episode! Another thing to point out is that the ongoing shows have nan episodes, so all the shows like One Piece aren't counted in the >100 episodes TV Shows"
      ]
    },
    {
      "cell_type": "markdown",
      "metadata": {
        "id": "S2swZ_DVGMYM",
        "colab_type": "text"
      },
      "source": [
        "# 4 - Rating"
      ]
    },
    {
      "cell_type": "code",
      "metadata": {
        "id": "tdbszTaxGMYM",
        "colab_type": "code",
        "colab": {
          "base_uri": "https://localhost:8080/",
          "height": 204
        },
        "outputId": "211eb08b-53f5-4f3f-b596-17230137a493"
      },
      "source": [
        "anime.head()"
      ],
      "execution_count": 27,
      "outputs": [
        {
          "output_type": "execute_result",
          "data": {
            "text/html": [
              "<div>\n",
              "<style scoped>\n",
              "    .dataframe tbody tr th:only-of-type {\n",
              "        vertical-align: middle;\n",
              "    }\n",
              "\n",
              "    .dataframe tbody tr th {\n",
              "        vertical-align: top;\n",
              "    }\n",
              "\n",
              "    .dataframe thead th {\n",
              "        text-align: right;\n",
              "    }\n",
              "</style>\n",
              "<table border=\"1\" class=\"dataframe\">\n",
              "  <thead>\n",
              "    <tr style=\"text-align: right;\">\n",
              "      <th></th>\n",
              "      <th>anime_id</th>\n",
              "      <th>name</th>\n",
              "      <th>genre</th>\n",
              "      <th>type</th>\n",
              "      <th>episodes</th>\n",
              "      <th>rating</th>\n",
              "      <th>members</th>\n",
              "    </tr>\n",
              "  </thead>\n",
              "  <tbody>\n",
              "    <tr>\n",
              "      <th>0</th>\n",
              "      <td>32281</td>\n",
              "      <td>Kimi no Na wa.</td>\n",
              "      <td>[Drama, Romance, School, Supernatural]</td>\n",
              "      <td>Movie</td>\n",
              "      <td>1.0</td>\n",
              "      <td>9.37</td>\n",
              "      <td>200630</td>\n",
              "    </tr>\n",
              "    <tr>\n",
              "      <th>1</th>\n",
              "      <td>5114</td>\n",
              "      <td>Fullmetal Alchemist: Brotherhood</td>\n",
              "      <td>[Action, Adventure, Drama, Fantasy, Magic, Mil...</td>\n",
              "      <td>TV</td>\n",
              "      <td>64.0</td>\n",
              "      <td>9.26</td>\n",
              "      <td>793665</td>\n",
              "    </tr>\n",
              "    <tr>\n",
              "      <th>2</th>\n",
              "      <td>28977</td>\n",
              "      <td>Gintama°</td>\n",
              "      <td>[Action, Comedy, Historical, Parody, Samurai, ...</td>\n",
              "      <td>TV</td>\n",
              "      <td>51.0</td>\n",
              "      <td>9.25</td>\n",
              "      <td>114262</td>\n",
              "    </tr>\n",
              "    <tr>\n",
              "      <th>3</th>\n",
              "      <td>9253</td>\n",
              "      <td>Steins;Gate</td>\n",
              "      <td>[Sci-Fi, Thriller]</td>\n",
              "      <td>TV</td>\n",
              "      <td>24.0</td>\n",
              "      <td>9.17</td>\n",
              "      <td>673572</td>\n",
              "    </tr>\n",
              "    <tr>\n",
              "      <th>4</th>\n",
              "      <td>9969</td>\n",
              "      <td>Gintama&amp;#039;</td>\n",
              "      <td>[Action, Comedy, Historical, Parody, Samurai, ...</td>\n",
              "      <td>TV</td>\n",
              "      <td>51.0</td>\n",
              "      <td>9.16</td>\n",
              "      <td>151266</td>\n",
              "    </tr>\n",
              "  </tbody>\n",
              "</table>\n",
              "</div>"
            ],
            "text/plain": [
              "   anime_id                              name  ... rating members\n",
              "0     32281                    Kimi no Na wa.  ...   9.37  200630\n",
              "1      5114  Fullmetal Alchemist: Brotherhood  ...   9.26  793665\n",
              "2     28977                          Gintama°  ...   9.25  114262\n",
              "3      9253                       Steins;Gate  ...   9.17  673572\n",
              "4      9969                     Gintama&#039;  ...   9.16  151266\n",
              "\n",
              "[5 rows x 7 columns]"
            ]
          },
          "metadata": {
            "tags": []
          },
          "execution_count": 27
        }
      ]
    },
    {
      "cell_type": "markdown",
      "metadata": {
        "id": "cZU5mnujGMYP",
        "colab_type": "text"
      },
      "source": [
        "## Simlarly to the number of episodes, it would be a good idea to bin the ratings together from 1 to 10"
      ]
    },
    {
      "cell_type": "code",
      "metadata": {
        "id": "0BVt6ZCmGMYQ",
        "colab_type": "code",
        "colab": {
          "base_uri": "https://localhost:8080/",
          "height": 431
        },
        "outputId": "48a0e479-2b5b-4fdb-fe06-48adae1cc9e1"
      },
      "source": [
        "# Creat the bins:\n",
        "bins = []\n",
        "for i in range(1,10):\n",
        "    list1 = list([i,i+1])\n",
        "    bins.append(list1)\n",
        "     \n",
        "list_bins = []\n",
        "for i in range(0,9):\n",
        "    n = len(anime.loc[(anime.rating <= bins[i][1]) & (anime.rating > bins[i][0])])\n",
        "    list_bins.append(n)\n",
        "\n",
        "    \n",
        "#print(list_bins)\n",
        "#print(bins)\n",
        "\n",
        "X = ['1-2', '2-3', '3-4', '4-5', '5-6', '6-7', '7-8', '8-9', '9-10']\n",
        "\n",
        "fig = plt.figure(figsize = (15,6))\n",
        "ax = fig.add_subplot()\n",
        "ax.bar(X,list_bins,alpha = 0.8)\n",
        "ax.set_xlabel('Rating')\n",
        "ax.set_ylabel('Quantity of Animes')\n",
        "ax.set_title('Animes')\n",
        "ax.spines['top'].set_visible(False)\n",
        "ax.spines['right'].set_visible(False)"
      ],
      "execution_count": 35,
      "outputs": [
        {
          "output_type": "display_data",
          "data": {
            "image/png": "[encoded data removed]",
            "text/plain": [
              "<Figure size 1500x600 with 1 Axes>"
            ]
          },
          "metadata": {
            "tags": []
          }
        }
      ]
    },
    {
      "cell_type": "markdown",
      "metadata": {
        "id": "kxjpt7eOGMYS",
        "colab_type": "text"
      },
      "source": [
        "## Here, we should have expected the distribution to be normal, so a few things could be happening, such as:\n",
        "* Most animes are just good\n",
        "* The audience isn't picky (people tend to give higher notes to not so good anime)\n",
        "\n",
        "I would guess the later, since I'm one of those persons hehe"
      ]
    }
  ]
}