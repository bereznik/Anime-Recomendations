{
  "nbformat": 4,
  "nbformat_minor": 0,
  "metadata": {
    "kernelspec": {
      "display_name": "Python 3",
      "language": "python",
      "name": "python3"
    },
    "language_info": {
      "codemirror_mode": {
        "name": "ipython",
        "version": 3
      },
      "file_extension": ".py",
      "mimetype": "text/x-python",
      "name": "python",
      "nbconvert_exporter": "python",
      "pygments_lexer": "ipython3",
      "version": "3.7.7"
    },
    "colab": {
      "name": "Algorithm.ipynb",
      "provenance": [],
      "collapsed_sections": [],
      "toc_visible": true,
      "include_colab_link": true
    }
  },
  "cells": [
    {
      "cell_type": "markdown",
      "metadata": {
        "id": "view-in-github",
        "colab_type": "text"
      },
      "source": [
        "<a href=\"https://colab.research.google.com/github/bereznik/Anime-Recommendations/blob/master/Algorithm.ipynb\" target=\"_parent\"><img src=\"https://colab.research.google.com/assets/colab-badge.svg\" alt=\"Open In Colab\"/></a>"
      ]
    },
    {
      "cell_type": "code",
      "metadata": {
        "id": "5HVtXg-wdxsx",
        "colab_type": "code",
        "colab": {
          "base_uri": "https://localhost:8080/",
          "height": 54
        },
        "outputId": "441574d0-8ac8-4aa2-fbe2-fb76437747e9"
      },
      "source": [
        "from google.colab import drive\n",
        "drive.mount('/content/drive')"
      ],
      "execution_count": 1,
      "outputs": [
        {
          "output_type": "stream",
          "text": [
            "Drive already mounted at /content/drive; to attempt to forcibly remount, call drive.mount(\"/content/drive\", force_remount=True).\n"
          ],
          "name": "stdout"
        }
      ]
    },
    {
      "cell_type": "markdown",
      "metadata": {
        "id": "OYqaFlsVy0Ab",
        "colab_type": "text"
      },
      "source": [
        "# Given that someone likes certain animes, which other animes this person might like?\n",
        "\n",
        "Let's start by importing the needed datasets and modules\n",
        "\n"
      ]
    },
    {
      "cell_type": "code",
      "metadata": {
        "id": "HqXUkC02bt52",
        "colab_type": "code",
        "colab": {}
      },
      "source": [
        "import numpy as np\n",
        "import pandas as pd\n",
        "from sklearn.cluster import KMeans\n",
        "from sklearn.cluster import OPTICS"
      ],
      "execution_count": 2,
      "outputs": []
    },
    {
      "cell_type": "code",
      "metadata": {
        "_cell_guid": "79c7e3d0-c299-4dcb-8224-4455121ee9b0",
        "_uuid": "d629ff2d2480ee46fbb7e2d37f6b5fab8052498a",
        "id": "1ctO152fy0Ac",
        "colab_type": "code",
        "colab": {}
      },
      "source": [
        "anime_original = pd.read_csv('/content/drive/My Drive/Anime analysis/anime.csv')\n",
        "rating_original = pd.read_csv('/content/drive/My Drive/Anime analysis/rating.csv')"
      ],
      "execution_count": 3,
      "outputs": []
    },
    {
      "cell_type": "code",
      "metadata": {
        "id": "9n98ZA5Ny0Af",
        "colab_type": "code",
        "colab": {}
      },
      "source": [
        "anime = anime_original.copy()\n",
        "rating = rating_original.copy()"
      ],
      "execution_count": 4,
      "outputs": []
    },
    {
      "cell_type": "markdown",
      "metadata": {
        "id": "UxY-euFSy0Ai",
        "colab_type": "text"
      },
      "source": [
        "# Machine Learning recomendation system\n",
        "### For this task we will use a colaborative system, in which we'll make recomendations based on the rating data of similar users.\n",
        "Note that there are values of -1 in the rating column. This means that the user watched the film but didn't rate it. We'll choose to drop these values in this aproach. In another approach we may choose to input some values as the -1 rating is a significant proportion of the rating column, almost 15%"
      ]
    },
    {
      "cell_type": "code",
      "metadata": {
        "id": "wsGxbbuyy0Aj",
        "colab_type": "code",
        "colab": {
          "base_uri": "https://localhost:8080/",
          "height": 419
        },
        "outputId": "7a1abb63-5005-4bf1-949f-6de2ba368d52"
      },
      "source": [
        "condition = rating.loc[rating.rating == -1,:].index\n",
        "rating.drop(condition,inplace=True)\n",
        "rating"
      ],
      "execution_count": 5,
      "outputs": [
        {
          "output_type": "execute_result",
          "data": {
            "text/html": [
              "<div>\n",
              "<style scoped>\n",
              "    .dataframe tbody tr th:only-of-type {\n",
              "        vertical-align: middle;\n",
              "    }\n",
              "\n",
              "    .dataframe tbody tr th {\n",
              "        vertical-align: top;\n",
              "    }\n",
              "\n",
              "    .dataframe thead th {\n",
              "        text-align: right;\n",
              "    }\n",
              "</style>\n",
              "<table border=\"1\" class=\"dataframe\">\n",
              "  <thead>\n",
              "    <tr style=\"text-align: right;\">\n",
              "      <th></th>\n",
              "      <th>user_id</th>\n",
              "      <th>anime_id</th>\n",
              "      <th>rating</th>\n",
              "    </tr>\n",
              "  </thead>\n",
              "  <tbody>\n",
              "    <tr>\n",
              "      <th>47</th>\n",
              "      <td>1</td>\n",
              "      <td>8074</td>\n",
              "      <td>10</td>\n",
              "    </tr>\n",
              "    <tr>\n",
              "      <th>81</th>\n",
              "      <td>1</td>\n",
              "      <td>11617</td>\n",
              "      <td>10</td>\n",
              "    </tr>\n",
              "    <tr>\n",
              "      <th>83</th>\n",
              "      <td>1</td>\n",
              "      <td>11757</td>\n",
              "      <td>10</td>\n",
              "    </tr>\n",
              "    <tr>\n",
              "      <th>101</th>\n",
              "      <td>1</td>\n",
              "      <td>15451</td>\n",
              "      <td>10</td>\n",
              "    </tr>\n",
              "    <tr>\n",
              "      <th>153</th>\n",
              "      <td>2</td>\n",
              "      <td>11771</td>\n",
              "      <td>10</td>\n",
              "    </tr>\n",
              "    <tr>\n",
              "      <th>...</th>\n",
              "      <td>...</td>\n",
              "      <td>...</td>\n",
              "      <td>...</td>\n",
              "    </tr>\n",
              "    <tr>\n",
              "      <th>7813732</th>\n",
              "      <td>73515</td>\n",
              "      <td>16512</td>\n",
              "      <td>7</td>\n",
              "    </tr>\n",
              "    <tr>\n",
              "      <th>7813733</th>\n",
              "      <td>73515</td>\n",
              "      <td>17187</td>\n",
              "      <td>9</td>\n",
              "    </tr>\n",
              "    <tr>\n",
              "      <th>7813734</th>\n",
              "      <td>73515</td>\n",
              "      <td>22145</td>\n",
              "      <td>10</td>\n",
              "    </tr>\n",
              "    <tr>\n",
              "      <th>7813735</th>\n",
              "      <td>73516</td>\n",
              "      <td>790</td>\n",
              "      <td>9</td>\n",
              "    </tr>\n",
              "    <tr>\n",
              "      <th>7813736</th>\n",
              "      <td>73516</td>\n",
              "      <td>8074</td>\n",
              "      <td>9</td>\n",
              "    </tr>\n",
              "  </tbody>\n",
              "</table>\n",
              "<p>6337241 rows × 3 columns</p>\n",
              "</div>"
            ],
            "text/plain": [
              "         user_id  anime_id  rating\n",
              "47             1      8074      10\n",
              "81             1     11617      10\n",
              "83             1     11757      10\n",
              "101            1     15451      10\n",
              "153            2     11771      10\n",
              "...          ...       ...     ...\n",
              "7813732    73515     16512       7\n",
              "7813733    73515     17187       9\n",
              "7813734    73515     22145      10\n",
              "7813735    73516       790       9\n",
              "7813736    73516      8074       9\n",
              "\n",
              "[6337241 rows x 3 columns]"
            ]
          },
          "metadata": {
            "tags": []
          },
          "execution_count": 5
        }
      ]
    },
    {
      "cell_type": "code",
      "metadata": {
        "scrolled": false,
        "id": "plj69ckdy0Am",
        "colab_type": "code",
        "colab": {
          "base_uri": "https://localhost:8080/",
          "height": 34
        },
        "outputId": "f3b9b0db-8ee6-4f4f-cf48-6a4811d40cf4"
      },
      "source": [
        "# Creating an array with the Id's of the rated animes\n",
        "anime_id_list = np.unique(rating.anime_id.values)\n",
        "anime_id_list"
      ],
      "execution_count": 6,
      "outputs": [
        {
          "output_type": "execute_result",
          "data": {
            "text/plain": [
              "array([    1,     5,     6, ..., 34349, 34367, 34475])"
            ]
          },
          "metadata": {
            "tags": []
          },
          "execution_count": 6
        }
      ]
    },
    {
      "cell_type": "markdown",
      "metadata": {
        "id": "DrForgCUy0Aq",
        "colab_type": "text"
      },
      "source": [
        "## Creation of the ratings matrix \n",
        "\n",
        "### We'll create a matrix such that the ij element of the matrix will be equal to the rating given by user \"i\" to the anime \"j\". Whenever the user didn't rate the anime the entry will be assigned to 0.\n",
        "\n",
        "There is a simples way to accomplish this task. The .pivot( ) method does exactly that, but unfortunately our dataset is huge so we don't have enough memory to make the calculations.\n",
        "\n",
        "To solve this problem, I came up with a function that leads to the same result but as a Sparse Matrix so we don't have to store all the values in memory!"
      ]
    },
    {
      "cell_type": "code",
      "metadata": {
        "id": "CeD1yGZ5cmqp",
        "colab_type": "code",
        "colab": {}
      },
      "source": [
        "from scipy.sparse import csr_matrix\n",
        "from pandas.api.types import CategoricalDtype\n",
        "\n",
        "user_c = CategoricalDtype(sorted(rating.user_id.unique()), ordered=True)\n",
        "anime_c = CategoricalDtype(sorted(rating.anime_id.unique()), ordered=True)\n",
        "\n",
        "row = rating.user_id.astype(user_c).cat.codes\n",
        "col = rating.anime_id.astype(anime_c).cat.codes\n",
        "sparse_matrix = csr_matrix((rating[\"rating\"], (row, col)), \\\n",
        "                           shape=(user_c.categories.size, anime_c.categories.size))"
      ],
      "execution_count": 7,
      "outputs": []
    },
    {
      "cell_type": "code",
      "metadata": {
        "id": "Up6iBN-Jy0Aq",
        "colab_type": "code",
        "colab": {}
      },
      "source": [
        "### Importing the sparse matrix previously calculated\n",
        "import scipy.sparse\n",
        "X_sparse = scipy.sparse.load_npz(\"/content/drive/My Drive/Anime analysis/sparse_matrix.npz\")"
      ],
      "execution_count": 8,
      "outputs": []
    },
    {
      "cell_type": "markdown",
      "metadata": {
        "id": "uTrK6tDgy0Au",
        "colab_type": "text"
      },
      "source": [
        "\n",
        "\n",
        "\n",
        "### The matrix is sparse because there are a ton of animes and obviously, most users didn't watch most of them"
      ]
    },
    {
      "cell_type": "code",
      "metadata": {
        "id": "jfaIeDBUy0Au",
        "colab_type": "code",
        "colab": {
          "base_uri": "https://localhost:8080/",
          "height": 34
        },
        "outputId": "5d03f82e-aa53-4c19-e663-fa64230d4009"
      },
      "source": [
        "#Less than 1% of the entries belong to given ratings\n",
        "sparcity = (X_sparse.nonzero()[0].shape[0])/(X_sparse.shape[0]*X_sparse.shape[1])\n",
        "sparcity*100"
      ],
      "execution_count": 9,
      "outputs": [
        {
          "output_type": "execute_result",
          "data": {
            "text/plain": [
              "0.9172178164972112"
            ]
          },
          "metadata": {
            "tags": []
          },
          "execution_count": 9
        }
      ]
    },
    {
      "cell_type": "markdown",
      "metadata": {
        "id": "ujtPG17vy0Ax",
        "colab_type": "text"
      },
      "source": [
        "## In this approach, we'll use matrix factorization in order to predict all the entries which weren't assigned by the users, then we'll group similar users to finally give predictions about a new user\n",
        "I've written a Gradient Descent algorithm to return two matrices P and Q such that their product approximates our original sparse matrix only at the entries that the users have given their ratings (non zero entries). This way the algorithm will learn the intrinsic taste of a user and will (hopefully!) generalize to the animes that weren't rated by the users. "
      ]
    },
    {
      "cell_type": "code",
      "metadata": {
        "id": "1-hBBjSHy0Ay",
        "colab_type": "code",
        "colab": {}
      },
      "source": [
        "def Gradient_Descent(X):\n",
        "    X_sparse = X/np.max(X)           # normalizing values\n",
        "    print(X_sparse)\n",
        "    n_factors = 100\n",
        "    n_steps =  500                # optimized\n",
        "    alpha = 0.01                   # optimized\n",
        "    \n",
        "    #initializing the vectors randomly:\n",
        "    p = np.random.normal(0, .01, (X_sparse.shape[0], n_factors))\n",
        "    q = np.random.normal(0, .01, (n_factors, X_sparse.shape[1]))      # changed so as to follow matrix multiplication rule\n",
        "    \n",
        "    for k in range(0,n_steps):\n",
        "        for (i,j) in zip(X_sparse.nonzero()[0],X_sparse.nonzero()[1]):\n",
        "            err = X_sparse[i,j] - np.dot(p[i, :],q[:, j])              # multiply whole row and column\n",
        "            p[i, :] = p[i, :] + alpha*q[:, j]*err                      # update whole row and column\n",
        "            q[:, j] = q[:, j] + alpha*p[i, :]*err                      # update whole row and column\n",
        "    print(np.dot(p, q)) \n",
        "    p = p*np.sqrt(np.max(X))                         # matrix multiplication rule for normalized values\n",
        "    q = q*np.sqrt(np.max(X))                         # matrix multiplication rule for normalized values\n",
        "    return (p,q)   "
      ],
      "execution_count": 10,
      "outputs": []
    },
    {
      "cell_type": "code",
      "metadata": {
        "id": "W7yDrZ_Ly0A0",
        "colab_type": "code",
        "colab": {}
      },
      "source": [
        "p,q = Gradient_Descent(X_sparse)"
      ],
      "execution_count": 11,
      "outputs": []
    },
    {
      "cell_type": "code",
      "metadata": {
        "id": "gypo7lEby0A3",
        "colab_type": "code",
        "colab": {
          "base_uri": "https://localhost:8080/",
          "height": 238
        },
        "outputId": "37d4d33c-56ae-4497-f253-8b50645b585b"
      },
      "source": [
        "#Loading both of the arrays\n",
        "import numpy as np\n",
        "p = np.load(\"/content/drive/My Drive/Anime analysis/P_100.npy\")\n",
        "q = np.load(\"/content/drive/My Drive/Anime analysis/Q_100.npy\")\n",
        "u = np.dot(p,q)\n",
        "u"
      ],
      "execution_count": 12,
      "outputs": [
        {
          "output_type": "execute_result",
          "data": {
            "text/plain": [
              "array([[ 8.05547392,  7.71305574,  9.6311547 , ...,  0.86857891,\n",
              "         1.77497064,  2.97927456],\n",
              "       [10.72737251, 10.4105446 ,  9.6147461 , ...,  3.85944463,\n",
              "         2.26037376,  1.5800193 ],\n",
              "       [ 7.3491924 ,  7.09325686,  5.82206622, ...,  4.01882358,\n",
              "         2.49100806,  0.72991475],\n",
              "       ...,\n",
              "       [12.95052176, 12.08595885, 11.95415848, ...,  2.05773616,\n",
              "         1.92105678,  3.47270485],\n",
              "       [10.59713923,  9.64744348, 10.43794337, ...,  4.5994465 ,\n",
              "         3.98210089,  2.89945446],\n",
              "       [ 9.44646862,  9.12819814,  9.95487514, ...,  2.90826939,\n",
              "         2.72424647,  1.34202599]])"
            ]
          },
          "metadata": {
            "tags": []
          },
          "execution_count": 12
        }
      ]
    },
    {
      "cell_type": "markdown",
      "metadata": {
        "id": "we3S6g7Si6nH",
        "colab_type": "text"
      },
      "source": [
        "### Great! Now we have a matrix with all the entries filled . We'll treat both the assigned values and the user-given values the same way without any distinction.\n",
        "\n",
        "There is a problem, though... \n",
        "\n",
        "Let's see what the values of a well-known anime are. In this case let's take FullMetal Alchemist."
      ]
    },
    {
      "cell_type": "code",
      "metadata": {
        "id": "dLku4CgRlM3Z",
        "colab_type": "code",
        "colab": {
          "base_uri": "https://localhost:8080/",
          "height": 80
        },
        "outputId": "2fdfeb21-6ca3-4459-ad94-05b94900fc0b"
      },
      "source": [
        "anime.loc[anime.name == 'Fullmetal Alchemist: Brotherhood']"
      ],
      "execution_count": 13,
      "outputs": [
        {
          "output_type": "execute_result",
          "data": {
            "text/html": [
              "<div>\n",
              "<style scoped>\n",
              "    .dataframe tbody tr th:only-of-type {\n",
              "        vertical-align: middle;\n",
              "    }\n",
              "\n",
              "    .dataframe tbody tr th {\n",
              "        vertical-align: top;\n",
              "    }\n",
              "\n",
              "    .dataframe thead th {\n",
              "        text-align: right;\n",
              "    }\n",
              "</style>\n",
              "<table border=\"1\" class=\"dataframe\">\n",
              "  <thead>\n",
              "    <tr style=\"text-align: right;\">\n",
              "      <th></th>\n",
              "      <th>anime_id</th>\n",
              "      <th>name</th>\n",
              "      <th>genre</th>\n",
              "      <th>type</th>\n",
              "      <th>episodes</th>\n",
              "      <th>rating</th>\n",
              "      <th>members</th>\n",
              "    </tr>\n",
              "  </thead>\n",
              "  <tbody>\n",
              "    <tr>\n",
              "      <th>1</th>\n",
              "      <td>5114</td>\n",
              "      <td>Fullmetal Alchemist: Brotherhood</td>\n",
              "      <td>Action, Adventure, Drama, Fantasy, Magic, Mili...</td>\n",
              "      <td>TV</td>\n",
              "      <td>64</td>\n",
              "      <td>9.26</td>\n",
              "      <td>793665</td>\n",
              "    </tr>\n",
              "  </tbody>\n",
              "</table>\n",
              "</div>"
            ],
            "text/plain": [
              "   anime_id                              name  ... rating members\n",
              "1      5114  Fullmetal Alchemist: Brotherhood  ...   9.26  793665\n",
              "\n",
              "[1 rows x 7 columns]"
            ]
          },
          "metadata": {
            "tags": []
          },
          "execution_count": 13
        }
      ]
    },
    {
      "cell_type": "code",
      "metadata": {
        "id": "olUC2cKkll20",
        "colab_type": "code",
        "colab": {
          "base_uri": "https://localhost:8080/",
          "height": 34
        },
        "outputId": "6ea01d8c-1fc5-4bee-aef1-be75b8f4d967"
      },
      "source": [
        "np.where(anime_id_list == 5114 )"
      ],
      "execution_count": 14,
      "outputs": [
        {
          "output_type": "execute_result",
          "data": {
            "text/plain": [
              "(array([3936]),)"
            ]
          },
          "metadata": {
            "tags": []
          },
          "execution_count": 14
        }
      ]
    },
    {
      "cell_type": "code",
      "metadata": {
        "id": "fhpFPm7Zltps",
        "colab_type": "code",
        "colab": {
          "base_uri": "https://localhost:8080/",
          "height": 51
        },
        "outputId": "f4ad7895-dbdc-457d-f846-561fb2f25a18"
      },
      "source": [
        "print('The mean is: ',u[:,3936].mean())\n",
        "print('The standard deviation is: ',u[:,3936].std())"
      ],
      "execution_count": 15,
      "outputs": [
        {
          "output_type": "stream",
          "text": [
            "The mean is:  9.460341654958771\n",
            "The standard deviation is:  1.1478887344063966\n"
          ],
          "name": "stdout"
        }
      ]
    },
    {
      "cell_type": "markdown",
      "metadata": {
        "id": "UJ9KIilgl35h",
        "colab_type": "text"
      },
      "source": [
        "Some animes have means greater than 9 (with low standard deviation). That means that the algorithm will consistently choose these animes as top recomendations just because their overall scores are so high (as we will see when I show the full algorithm).\n",
        "\n",
        "To solve this, I chose to reduce the values of the animes with mean greater than 9 and greater than 8 by using a weighted mean with those values and the mean of all the animes to give a chance for the lower rated ones to compete. Of course we need to reduce the ratings of the >9-mean animes more than the >8 animes.\n"
      ]
    },
    {
      "cell_type": "code",
      "metadata": {
        "id": "mnxwaV2m4F_7",
        "colab_type": "code",
        "colab": {
          "base_uri": "https://localhost:8080/",
          "height": 238
        },
        "outputId": "1c865202-8141-4fb4-f8d8-f6ff8b6ed04c"
      },
      "source": [
        "#function to reduce the ratings of the best rated anime\n",
        "def squeezing_top_values(u):\n",
        "  p1 = 9        # paremeter to reduce the greater than 9-mean animes\n",
        "  p2 = 200      # paremeter to reduce the greater than 8 and lower than 9 mean animes\n",
        "  index1 = np.where(u.mean(axis=0)>9)\n",
        "  index2 = np.where((u.mean(axis=0)>8) & (u.mean(axis=0)<9))\n",
        "  k = u.mean()\n",
        "  for i in index1:\n",
        "    u[:,i] = (u[:,i]*p1 + k)/(p1+1)\n",
        "  for i in index2:\n",
        "    u[:,i] = (u[:,i]*p2 + k)/(p2+1)\n",
        "  return u\n",
        "u = squeezing_top_values(u)    \n",
        "u"
      ],
      "execution_count": 16,
      "outputs": [
        {
          "output_type": "execute_result",
          "data": {
            "text/plain": [
              "array([[ 8.0389772 ,  7.69826259,  9.60681878, ...,  0.86857891,\n",
              "         1.77497064,  2.97927456],\n",
              "       [10.69758276, 10.38233111,  9.59049181, ...,  3.85944463,\n",
              "         2.26037376,  1.5800193 ],\n",
              "       [ 7.33620953,  7.0815473 ,  5.81668099, ...,  4.01882358,\n",
              "         2.49100806,  0.72991475],\n",
              "       ...,\n",
              "       [12.90967158, 12.04940998, 11.91826532, ...,  2.05773616,\n",
              "         1.92105678,  3.47270485],\n",
              "       [10.56799741,  9.62302652, 10.40959357, ...,  4.5994465 ,\n",
              "         3.98210089,  2.89945446],\n",
              "       [ 9.42305153,  9.10636449,  9.92892866, ...,  2.90826939,\n",
              "         2.72424647,  1.34202599]])"
            ]
          },
          "metadata": {
            "tags": []
          },
          "execution_count": 16
        }
      ]
    },
    {
      "cell_type": "code",
      "metadata": {
        "id": "NTzKsNorm90-",
        "colab_type": "code",
        "colab": {
          "base_uri": "https://localhost:8080/",
          "height": 51
        },
        "outputId": "299643d1-c3e0-4122-b688-0b7035f92ae8"
      },
      "source": [
        "# Now we have:\n",
        "print('The mean now is: ',u[:,3936].mean())\n",
        "print('The standard deviation now is: ',u[:,3936].std())\n",
        "\n",
        "#That's better!"
      ],
      "execution_count": 17,
      "outputs": [
        {
          "output_type": "stream",
          "text": [
            "The mean now is:  8.988270899372202\n",
            "The standard deviation now is:  1.033099860965757\n"
          ],
          "name": "stdout"
        }
      ]
    },
    {
      "cell_type": "markdown",
      "metadata": {
        "id": "FMGCyJwJy0A9",
        "colab_type": "text"
      },
      "source": [
        "### Let's assign the user input to a vector\n"
      ]
    },
    {
      "cell_type": "code",
      "metadata": {
        "id": "8MFRsQyHy0A-",
        "colab_type": "code",
        "colab": {}
      },
      "source": [
        "''' This function takes the names and the ratings of the animes given \n",
        "by the new user and transforms them to the correct form such that the algorithm\n",
        "will understand\n",
        "'''\n",
        "\n",
        "def user_input_scores(array):\n",
        "    a = []\n",
        "    scores = []\n",
        "    for i in range(0,len(array)):\n",
        "        a.append(anime.loc[anime.name == array[i][0]].anime_id.values[0]) \n",
        "    a = np.array(a)\n",
        "    \n",
        "    for i in range(0,len(anime_id_list) - len(array)):\n",
        "        scores.append(0)\n",
        "    \n",
        "    for i in range(0,len(a)):\n",
        "        index = np.where(anime_id_list == a[i])[0][0]\n",
        "        scores.insert(index,array[i][1])\n",
        "    scores = np.array(scores)\n",
        "    return scores\n"
      ],
      "execution_count": 18,
      "outputs": []
    },
    {
      "cell_type": "markdown",
      "metadata": {
        "id": "VYiC0_DboNKE",
        "colab_type": "text"
      },
      "source": [
        "### I've written a few customized lists of well known animes to test if the given recomendations make sense."
      ]
    },
    {
      "cell_type": "code",
      "metadata": {
        "id": "ysvh_RRN85M9",
        "colab_type": "code",
        "colab": {}
      },
      "source": [
        "# shonen\n",
        "y1 = [('Fullmetal Alchemist: Brotherhood',10),('Steins;Gate',10),('Gintama°',10),('Hunter x Hunter (2011)',10),\n",
        "     ('Sen to Chihiro no Kamikakushi',10),('Shigatsu wa Kimi no Uso',7),('Cowboy Bebop',8),('Monster',5),\n",
        "     ('Death Note',10),('Sword Art Online',10),('Tokyo Ghoul',10),\n",
        "     ('Mirai Nikki',7)]\n",
        "# sports\n",
        "y2 = [('Haikyuu!!',10),('Kuroko no Basket',10),('Haikyuu!! Second Season',10),\n",
        "      ('Free!',10),('Kuroko no Basket 2nd Season',10),('Hajime no Ippo',10),\n",
        "      ('Slam Dunk',10),('Yowamushi Pedal',10),('Diamond no Ace',10),('Inazuma Eleven',10),\n",
        "      ('Captain Tsubasa',10)]\n",
        "\n",
        "y3 = [('Death Note',8),('Naruto',10)]\n",
        "\n",
        "y4 = [('Haikyuu!!',10),('Diamond no Ace',10)]\n",
        "\n",
        "y5 = [('Cowboy Bebop',10),('Monster',10)]\n"
      ],
      "execution_count": 26,
      "outputs": []
    },
    {
      "cell_type": "markdown",
      "metadata": {
        "id": "7mqi6KuNy0BA",
        "colab_type": "text"
      },
      "source": [
        "### Finally, below are all the functions needed to finish the recomendation process. The way that the recomendations will be given is as follows:\n",
        "\n",
        "#### First, we'll use the KMeans algorithm to Cluster our users and see in which group our new user will be assigned to. To understand this in a high level you could think that the clustering will divide the users between the ones who like more shonen, the ones who like more sports animes and so on...\n",
        "\n",
        "#### Then, we'll know the similar users with our new user.\n",
        "\n",
        "#### Based on that we'll take the mean of all the animes ratings of those viewers and the recomended shows will be the ones with the highest means, simples isn't it?\n",
        "\n",
        "\n"
      ]
    },
    {
      "cell_type": "code",
      "metadata": {
        "id": "TsVWudufsT4E",
        "colab_type": "code",
        "colab": {}
      },
      "source": [
        "#Function to determine the positions of the animes that the user has seen:\n",
        "\n",
        "def position_seen_animes(y):\n",
        "  scores = user_input_scores(y)\n",
        "  position = np.where(scores!=0)[0]\n",
        "  return position\n",
        "\n",
        "# Function to create an array from the users matrix with only the animes the new user has seen\n",
        "\n",
        "def user_scores_seen_animes(X,y):\n",
        "  positions = position_seen_animes(y)\n",
        "  return X[:,positions]\n",
        "\n",
        "#Function to apply Kmeans algorithm to get similar viewers\n",
        "\n",
        "def similar_users_position(X,y):\n",
        "  \n",
        "  n_clusters = 8 ### The best number after exhaustive tests\n",
        "\n",
        "  X_transformed = user_scores_seen_animes(X,y)\n",
        "  y_transformed = user_input_scores(y)[position_seen_animes(y)].reshape(1,-1)\n",
        "  kmeans = KMeans(n_clusters = n_clusters).fit(X_transformed)\n",
        "  group = kmeans.predict(y_transformed)\n",
        "    \n",
        "  (array_labels,n_labels) = np.unique(kmeans.labels_,return_counts = True) #test to see if the clustering was well done\n",
        "  print(n_labels,group)\n",
        "  similar_user_position = np.where(kmeans.labels_ == group)[0]\n",
        "  return similar_user_position\n",
        "\n",
        "\n",
        "#Function to take the mean scores of the similar users in order to rank the animes\n",
        "\n",
        "def mean_scores(X,y):\n",
        "  similar_users_scores = []\n",
        "  \n",
        "  index = similar_users_position(X,y) #similar users positions on the user matrix\n",
        "  scores = np.zeros(len(anime_id_list)) #inicializing \n",
        "\n",
        "  for i in index:\n",
        "    similar_users_scores.append(X[i])\n",
        "\n",
        "  similar_users_scores = np.array(similar_users_scores)\n",
        "\n",
        "  mean_scores = similar_users_scores.sum(axis = 0)/similar_users_scores.shape[0] # Getting the mean_scores\n",
        "\n",
        "  return mean_scores\n",
        "\n",
        "#Function to determine the positions of the best rated shows\n",
        "\n",
        "def best_rated_shows(X,y):\n",
        "  mean_marks = mean_scores(X,y)\n",
        "  index = anime_id_list[np.argsort(mean_marks)[-35:]]\n",
        "  return index\n",
        "\n",
        "#Function to determine the names of the best rated shows\n",
        "\n",
        "def names_best_rated_shows(X,y):\n",
        "  index = best_rated_shows(X,y)\n",
        "  for i in index:\n",
        "        print(anime.loc[anime.anime_id == i,['name']])\n",
        "\n",
        "\n",
        "\n",
        "\n",
        "\n",
        "\n"
      ],
      "execution_count": 20,
      "outputs": []
    },
    {
      "cell_type": "code",
      "metadata": {
        "id": "1rwv13Mk2lQN",
        "colab_type": "code",
        "colab": {
          "base_uri": "https://localhost:8080/",
          "height": 1000
        },
        "outputId": "7d8f2464-45ff-41e0-e6e2-411813d8b503"
      },
      "source": [
        "a = names_best_rated_shows(u,y3)"
      ],
      "execution_count": 27,
      "outputs": [
        {
          "output_type": "stream",
          "text": [
            "[ 6812 14720  2847 11885 10363  8091  7526  7356] [3]\n",
            "          name\n",
            "3  Steins;Gate\n",
            "                           name\n",
            "72  Kuroko no Basket 2nd Season\n",
            "             name\n",
            "0  Kimi no Na wa.\n",
            "           name\n",
            "183  SKET Dance\n",
            "                                        name\n",
            "135  Rurouni Kenshin: Meiji Kenkaku Romantan\n",
            "                           name\n",
            "101  Magi: The Kingdom of Magic\n",
            "                       name\n",
            "14  Haikyuu!! Second Season\n",
            "                              name\n",
            "100  Diamond no Ace: Second Season\n",
            "                                  name\n",
            "13  Code Geass: Hangyaku no Lelouch R2\n",
            "                                                 name\n",
            "57  Ano Hi Mita Hana no Namae wo Bokutachi wa Mada...\n",
            "                          name\n",
            "29  Tengen Toppa Gurren Lagann\n",
            "                   name\n",
            "39  Bakuman. 3rd Season\n",
            "                                                name\n",
            "5  Haikyuu!!: Karasuno Koukou VS Shiratorizawa Ga...\n",
            "       name\n",
            "38  Monster\n",
            "           name\n",
            "304  D.Gray-man\n",
            "                 name\n",
            "66  Hellsing Ultimate\n",
            "       name\n",
            "2  Gintama°\n",
            "                     name\n",
            "30  Great Teacher Onizuka\n",
            "                     name\n",
            "6  Hunter x Hunter (2011)\n",
            "              name\n",
            "20  Hajime no Ippo\n",
            "                name\n",
            "120  Yuu☆Yuu☆Hakusho\n",
            "             name\n",
            "23  One Punch Man\n",
            "                            name\n",
            "18  Ookami Kodomo no Ame to Yuki\n",
            "              name\n",
            "206  Dragon Ball Z\n",
            "           name\n",
            "288  Fairy Tail\n",
            "                                   name\n",
            "53  Rainbow: Nisha Rokubou no Shichinin\n",
            "                   name\n",
            "35  Howl no Ugoku Shiro\n",
            "                       name\n",
            "175  Katekyo Hitman Reborn!\n",
            "       name\n",
            "582  Bleach\n",
            "                       name\n",
            "16  Shigatsu wa Kimi no Uso\n",
            "                       name\n",
            "9  Gintama&#039;: Enchousen\n",
            "                               name\n",
            "1  Fullmetal Alchemist: Brotherhood\n",
            "                  name\n",
            "86  Shingeki no Kyojin\n",
            "       name\n",
            "841  Naruto\n",
            "          name\n",
            "40  Death Note\n"
          ],
          "name": "stdout"
        }
      ]
    }
  ]
}