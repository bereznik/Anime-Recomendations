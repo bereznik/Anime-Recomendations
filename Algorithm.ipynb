{
  "nbformat": 4,
  "nbformat_minor": 0,
  "metadata": {
    "kernelspec": {
      "display_name": "Python 3",
      "language": "python",
      "name": "python3"
    },
    "language_info": {
      "codemirror_mode": {
        "name": "ipython",
        "version": 3
      },
      "file_extension": ".py",
      "mimetype": "text/x-python",
      "name": "python",
      "nbconvert_exporter": "python",
      "pygments_lexer": "ipython3",
      "version": "3.7.7"
    },
    "colab": {
      "name": "Algorithm.ipynb",
      "provenance": [],
      "collapsed_sections": [],
      "include_colab_link": true
    }
  },
  "cells": [
    {
      "cell_type": "markdown",
      "metadata": {
        "id": "view-in-github",
        "colab_type": "text"
      },
      "source": [
        "<a href=\"https://colab.research.google.com/github/bereznik/Anime-Recommendations/blob/master/Algorithm.ipynb\" target=\"_parent\"><img src=\"https://colab.research.google.com/assets/colab-badge.svg\" alt=\"Open In Colab\"/></a>"
      ]
    },
    {
      "cell_type": "markdown",
      "metadata": {
        "id": "OYqaFlsVy0Ab",
        "colab_type": "text"
      },
      "source": [
        "# Given that someone likes certain animes, which other animes this person might like?\n",
        "\n",
        "Let's start by importing the needed datasets and modules\n",
        "\n"
      ]
    },
    {
      "cell_type": "code",
      "metadata": {
        "id": "HqXUkC02bt52",
        "colab_type": "code",
        "colab": {}
      },
      "source": [
        "import numpy as np\n",
        "import pandas as pd\n",
        "from sklearn.cluster import KMeans\n",
        "from sklearn.cluster import OPTICS"
      ],
      "execution_count": 2,
      "outputs": []
    },
    {
      "cell_type": "code",
      "metadata": {
        "_cell_guid": "79c7e3d0-c299-4dcb-8224-4455121ee9b0",
        "_uuid": "d629ff2d2480ee46fbb7e2d37f6b5fab8052498a",
        "id": "1ctO152fy0Ac",
        "colab_type": "code",
        "colab": {}
      },
      "source": [
        "anime_original = pd.read_csv('/content/drive/My Drive/Anime analysis/anime.csv')\n",
        "rating_original = pd.read_csv('/content/drive/My Drive/Anime analysis/rating.csv')"
      ],
      "execution_count": 3,
      "outputs": []
    },
    {
      "cell_type": "code",
      "metadata": {
        "id": "9n98ZA5Ny0Af",
        "colab_type": "code",
        "colab": {}
      },
      "source": [
        "anime = anime_original.copy()\n",
        "rating = rating_original.copy()"
      ],
      "execution_count": 4,
      "outputs": []
    },
    {
      "cell_type": "markdown",
      "metadata": {
        "id": "UxY-euFSy0Ai",
        "colab_type": "text"
      },
      "source": [
        "# Machine Learning recomendation system\n",
        "### For this task we will use a colaborative system, in which we'll make recomendations based on the rating data of similar users.\n",
        "Note that there are values of -1 in the rating column. This means that the user watched the film but didn't rate it. We'll choose to drop these values in this aproach. In another approach we may choose to input some values as the -1 rating is a significant proportion of the rating column, almost 15%"
      ]
    },
    {
      "cell_type": "code",
      "metadata": {
        "id": "wsGxbbuyy0Aj",
        "colab_type": "code",
        "colab": {
          "base_uri": "https://localhost:8080/",
          "height": 419
        },
        "outputId": "3a7a0d10-f8c4-49ef-8145-f046daa0bbd4"
      },
      "source": [
        "condition = rating.loc[rating.rating == -1,:].index\n",
        "rating.drop(condition,inplace=True)\n",
        "rating"
      ],
      "execution_count": 5,
      "outputs": [
        {
          "output_type": "execute_result",
          "data": {
            "text/html": [
              "<div>\n",
              "<style scoped>\n",
              "    .dataframe tbody tr th:only-of-type {\n",
              "        vertical-align: middle;\n",
              "    }\n",
              "\n",
              "    .dataframe tbody tr th {\n",
              "        vertical-align: top;\n",
              "    }\n",
              "\n",
              "    .dataframe thead th {\n",
              "        text-align: right;\n",
              "    }\n",
              "</style>\n",
              "<table border=\"1\" class=\"dataframe\">\n",
              "  <thead>\n",
              "    <tr style=\"text-align: right;\">\n",
              "      <th></th>\n",
              "      <th>user_id</th>\n",
              "      <th>anime_id</th>\n",
              "      <th>rating</th>\n",
              "    </tr>\n",
              "  </thead>\n",
              "  <tbody>\n",
              "    <tr>\n",
              "      <th>47</th>\n",
              "      <td>1</td>\n",
              "      <td>8074</td>\n",
              "      <td>10</td>\n",
              "    </tr>\n",
              "    <tr>\n",
              "      <th>81</th>\n",
              "      <td>1</td>\n",
              "      <td>11617</td>\n",
              "      <td>10</td>\n",
              "    </tr>\n",
              "    <tr>\n",
              "      <th>83</th>\n",
              "      <td>1</td>\n",
              "      <td>11757</td>\n",
              "      <td>10</td>\n",
              "    </tr>\n",
              "    <tr>\n",
              "      <th>101</th>\n",
              "      <td>1</td>\n",
              "      <td>15451</td>\n",
              "      <td>10</td>\n",
              "    </tr>\n",
              "    <tr>\n",
              "      <th>153</th>\n",
              "      <td>2</td>\n",
              "      <td>11771</td>\n",
              "      <td>10</td>\n",
              "    </tr>\n",
              "    <tr>\n",
              "      <th>...</th>\n",
              "      <td>...</td>\n",
              "      <td>...</td>\n",
              "      <td>...</td>\n",
              "    </tr>\n",
              "    <tr>\n",
              "      <th>7813732</th>\n",
              "      <td>73515</td>\n",
              "      <td>16512</td>\n",
              "      <td>7</td>\n",
              "    </tr>\n",
              "    <tr>\n",
              "      <th>7813733</th>\n",
              "      <td>73515</td>\n",
              "      <td>17187</td>\n",
              "      <td>9</td>\n",
              "    </tr>\n",
              "    <tr>\n",
              "      <th>7813734</th>\n",
              "      <td>73515</td>\n",
              "      <td>22145</td>\n",
              "      <td>10</td>\n",
              "    </tr>\n",
              "    <tr>\n",
              "      <th>7813735</th>\n",
              "      <td>73516</td>\n",
              "      <td>790</td>\n",
              "      <td>9</td>\n",
              "    </tr>\n",
              "    <tr>\n",
              "      <th>7813736</th>\n",
              "      <td>73516</td>\n",
              "      <td>8074</td>\n",
              "      <td>9</td>\n",
              "    </tr>\n",
              "  </tbody>\n",
              "</table>\n",
              "<p>6337241 rows × 3 columns</p>\n",
              "</div>"
            ],
            "text/plain": [
              "         user_id  anime_id  rating\n",
              "47             1      8074      10\n",
              "81             1     11617      10\n",
              "83             1     11757      10\n",
              "101            1     15451      10\n",
              "153            2     11771      10\n",
              "...          ...       ...     ...\n",
              "7813732    73515     16512       7\n",
              "7813733    73515     17187       9\n",
              "7813734    73515     22145      10\n",
              "7813735    73516       790       9\n",
              "7813736    73516      8074       9\n",
              "\n",
              "[6337241 rows x 3 columns]"
            ]
          },
          "metadata": {
            "tags": []
          },
          "execution_count": 5
        }
      ]
    },
    {
      "cell_type": "code",
      "metadata": {
        "scrolled": false,
        "id": "plj69ckdy0Am",
        "colab_type": "code",
        "colab": {
          "base_uri": "https://localhost:8080/",
          "height": 34
        },
        "outputId": "fff3a162-f275-477d-bdb8-10b28cbf8e47"
      },
      "source": [
        "# Creating an array with the Id's of the rated animes\n",
        "anime_id_list = np.unique(rating.anime_id.values)\n",
        "anime_id_list"
      ],
      "execution_count": 6,
      "outputs": [
        {
          "output_type": "execute_result",
          "data": {
            "text/plain": [
              "array([    1,     5,     6, ..., 34349, 34367, 34475])"
            ]
          },
          "metadata": {
            "tags": []
          },
          "execution_count": 6
        }
      ]
    },
    {
      "cell_type": "markdown",
      "metadata": {
        "id": "DrForgCUy0Aq",
        "colab_type": "text"
      },
      "source": [
        "## Creation of the ratings matrix \n",
        "\n",
        "### We'll create a matrix such that the ij element of the matrix will be equal to the rating given by user \"i\" to the anime \"j\". Whenever the user didn't rate the anime the entry will be assigned to 0.\n",
        "\n",
        "There is a simples way to accomplish this task. The .pivot( ) method does exactly that, but unfortunately our dataset is huge so we don't have enough memory to make the calculations.\n",
        "\n",
        "To solve this problem, I came up with a function that leads to the same result but as a Sparse Matrix so we don't have to store all the values in memory!"
      ]
    },
    {
      "cell_type": "code",
      "metadata": {
        "id": "CeD1yGZ5cmqp",
        "colab_type": "code",
        "colab": {}
      },
      "source": [
        "from scipy.sparse import csr_matrix\n",
        "from pandas.api.types import CategoricalDtype\n",
        "\n",
        "user_c = CategoricalDtype(sorted(rating.user_id.unique()), ordered=True)\n",
        "anime_c = CategoricalDtype(sorted(rating.anime_id.unique()), ordered=True)\n",
        "\n",
        "row = rating.user_id.astype(user_c).cat.codes\n",
        "col = rating.anime_id.astype(anime_c).cat.codes\n",
        "sparse_matrix = csr_matrix((rating[\"rating\"], (row, col)), \\\n",
        "                           shape=(user_c.categories.size, anime_c.categories.size))"
      ],
      "execution_count": 7,
      "outputs": []
    },
    {
      "cell_type": "code",
      "metadata": {
        "id": "Up6iBN-Jy0Aq",
        "colab_type": "code",
        "colab": {}
      },
      "source": [
        "### Importing the sparse matrix previously calculated\n",
        "import scipy.sparse\n",
        "X_sparse = scipy.sparse.load_npz(\"/content/drive/My Drive/Anime analysis/sparse_matrix.npz\")"
      ],
      "execution_count": 8,
      "outputs": []
    },
    {
      "cell_type": "markdown",
      "metadata": {
        "id": "uTrK6tDgy0Au",
        "colab_type": "text"
      },
      "source": [
        "\n",
        "\n",
        "\n",
        "### The matrix is sparse because there are a ton of animes and obviously, most users didn't watch most of them"
      ]
    },
    {
      "cell_type": "code",
      "metadata": {
        "id": "jfaIeDBUy0Au",
        "colab_type": "code",
        "colab": {
          "base_uri": "https://localhost:8080/",
          "height": 34
        },
        "outputId": "dcee18cd-a9f6-4823-a44d-64411db2fcf1"
      },
      "source": [
        "#Less than 1% of the entries belong to given ratings\n",
        "sparcity = (X_sparse.nonzero()[0].shape[0])/(X_sparse.shape[0]*X_sparse.shape[1])\n",
        "sparcity*100"
      ],
      "execution_count": 9,
      "outputs": [
        {
          "output_type": "execute_result",
          "data": {
            "text/plain": [
              "0.9172178164972112"
            ]
          },
          "metadata": {
            "tags": []
          },
          "execution_count": 9
        }
      ]
    },
    {
      "cell_type": "markdown",
      "metadata": {
        "id": "ujtPG17vy0Ax",
        "colab_type": "text"
      },
      "source": [
        "## In this approach, we'll use matrix factorization in order to predict all the entries which weren't assigned by the users, then we'll group similar users to finally give predictions about a new user\n",
        "I've written a Gradient Descent algorithm to return two matrices P and Q such that their product approximates our original sparse matrix only at the entries that the users have given their ratings (non zero entries). This way the algorithm will learn the intrinsic taste of a user and will (hopefully!) generalize to the animes that weren't rated by the users. "
      ]
    },
    {
      "cell_type": "code",
      "metadata": {
        "id": "1-hBBjSHy0Ay",
        "colab_type": "code",
        "colab": {}
      },
      "source": [
        "def Gradient_Descent(X):\n",
        "    X_sparse = X/np.max(X)           # normalizing values\n",
        "    print(X_sparse)\n",
        "    n_factors = 100\n",
        "    n_steps =  500                # optimized\n",
        "    alpha = 0.01                   # optimized\n",
        "    \n",
        "    #initializing the vectors randomly:\n",
        "    p = np.random.normal(0, .01, (X_sparse.shape[0], n_factors))\n",
        "    q = np.random.normal(0, .01, (n_factors, X_sparse.shape[1]))      # changed so as to follow matrix multiplication rule\n",
        "    \n",
        "    for k in range(0,n_steps):\n",
        "        for (i,j) in zip(X_sparse.nonzero()[0],X_sparse.nonzero()[1]):\n",
        "            err = X_sparse[i,j] - np.dot(p[i, :],q[:, j])              # multiply whole row and column\n",
        "            p[i, :] = p[i, :] + alpha*q[:, j]*err                      # update whole row and column\n",
        "            q[:, j] = q[:, j] + alpha*p[i, :]*err                      # update whole row and column\n",
        "    print(np.dot(p, q)) \n",
        "    p = p*np.sqrt(np.max(X))                         # matrix multiplication rule for normalized values\n",
        "    q = q*np.sqrt(np.max(X))                         # matrix multiplication rule for normalized values\n",
        "    return (p,q)   "
      ],
      "execution_count": 10,
      "outputs": []
    },
    {
      "cell_type": "code",
      "metadata": {
        "id": "W7yDrZ_Ly0A0",
        "colab_type": "code",
        "colab": {}
      },
      "source": [
        "#p,q = Gradient_Descent(X_sparse)"
      ],
      "execution_count": 11,
      "outputs": []
    },
    {
      "cell_type": "code",
      "metadata": {
        "id": "gypo7lEby0A3",
        "colab_type": "code",
        "colab": {
          "base_uri": "https://localhost:8080/",
          "height": 238
        },
        "outputId": "7c965013-e287-4183-96b0-d748dc16f1f5"
      },
      "source": [
        "#Loading both of the arrays\n",
        "import numpy as np\n",
        "p = np.load(\"/content/drive/My Drive/Anime analysis/P_100.npy\")\n",
        "q = np.load(\"/content/drive/My Drive/Anime analysis/Q_100.npy\")\n",
        "u = np.dot(p,q)\n",
        "u"
      ],
      "execution_count": 12,
      "outputs": [
        {
          "output_type": "execute_result",
          "data": {
            "text/plain": [
              "array([[ 8.05547392,  7.71305574,  9.6311547 , ...,  0.86857891,\n",
              "         1.77497064,  2.97927456],\n",
              "       [10.72737251, 10.4105446 ,  9.6147461 , ...,  3.85944463,\n",
              "         2.26037376,  1.5800193 ],\n",
              "       [ 7.3491924 ,  7.09325686,  5.82206622, ...,  4.01882358,\n",
              "         2.49100806,  0.72991475],\n",
              "       ...,\n",
              "       [12.95052176, 12.08595885, 11.95415848, ...,  2.05773616,\n",
              "         1.92105678,  3.47270485],\n",
              "       [10.59713923,  9.64744348, 10.43794337, ...,  4.5994465 ,\n",
              "         3.98210089,  2.89945446],\n",
              "       [ 9.44646862,  9.12819814,  9.95487514, ...,  2.90826939,\n",
              "         2.72424647,  1.34202599]])"
            ]
          },
          "metadata": {
            "tags": []
          },
          "execution_count": 12
        }
      ]
    },
    {
      "cell_type": "code",
      "metadata": {
        "id": "LCmb4D-1CG-G",
        "colab_type": "code",
        "colab": {
          "base_uri": "https://localhost:8080/",
          "height": 34
        },
        "outputId": "d7ad4d03-decb-4372-a9b5-0c3a25011066"
      },
      "source": [
        "u.mean()"
      ],
      "execution_count": 13,
      "outputs": [
        {
          "output_type": "execute_result",
          "data": {
            "text/plain": [
              "4.739634099093069"
            ]
          },
          "metadata": {
            "tags": []
          },
          "execution_count": 13
        }
      ]
    },
    {
      "cell_type": "markdown",
      "metadata": {
        "id": "we3S6g7Si6nH",
        "colab_type": "text"
      },
      "source": [
        "### Great! Now we have a matrix with all the entries filled . We'll treat both the assigned values and the user-given values the same way without any distinction.\n",
        "\n",
        "There is a problem, though... \n",
        "\n",
        "Let's see what the values of a well-known anime are. In this case let's take FullMetal Alchemist."
      ]
    },
    {
      "cell_type": "code",
      "metadata": {
        "id": "dLku4CgRlM3Z",
        "colab_type": "code",
        "colab": {
          "base_uri": "https://localhost:8080/",
          "height": 80
        },
        "outputId": "5fb3806c-f1b9-40b0-c911-c8c741d48af9"
      },
      "source": [
        "anime.loc[anime.name == 'Fullmetal Alchemist: Brotherhood']"
      ],
      "execution_count": 14,
      "outputs": [
        {
          "output_type": "execute_result",
          "data": {
            "text/html": [
              "<div>\n",
              "<style scoped>\n",
              "    .dataframe tbody tr th:only-of-type {\n",
              "        vertical-align: middle;\n",
              "    }\n",
              "\n",
              "    .dataframe tbody tr th {\n",
              "        vertical-align: top;\n",
              "    }\n",
              "\n",
              "    .dataframe thead th {\n",
              "        text-align: right;\n",
              "    }\n",
              "</style>\n",
              "<table border=\"1\" class=\"dataframe\">\n",
              "  <thead>\n",
              "    <tr style=\"text-align: right;\">\n",
              "      <th></th>\n",
              "      <th>anime_id</th>\n",
              "      <th>name</th>\n",
              "      <th>genre</th>\n",
              "      <th>type</th>\n",
              "      <th>episodes</th>\n",
              "      <th>rating</th>\n",
              "      <th>members</th>\n",
              "    </tr>\n",
              "  </thead>\n",
              "  <tbody>\n",
              "    <tr>\n",
              "      <th>1</th>\n",
              "      <td>5114</td>\n",
              "      <td>Fullmetal Alchemist: Brotherhood</td>\n",
              "      <td>Action, Adventure, Drama, Fantasy, Magic, Mili...</td>\n",
              "      <td>TV</td>\n",
              "      <td>64</td>\n",
              "      <td>9.26</td>\n",
              "      <td>793665</td>\n",
              "    </tr>\n",
              "  </tbody>\n",
              "</table>\n",
              "</div>"
            ],
            "text/plain": [
              "   anime_id                              name  ... rating members\n",
              "1      5114  Fullmetal Alchemist: Brotherhood  ...   9.26  793665\n",
              "\n",
              "[1 rows x 7 columns]"
            ]
          },
          "metadata": {
            "tags": []
          },
          "execution_count": 14
        }
      ]
    },
    {
      "cell_type": "code",
      "metadata": {
        "id": "olUC2cKkll20",
        "colab_type": "code",
        "colab": {
          "base_uri": "https://localhost:8080/",
          "height": 34
        },
        "outputId": "df570d6d-0e44-4a43-832e-29be6bfec985"
      },
      "source": [
        "np.where(anime_id_list == 5114 )"
      ],
      "execution_count": 15,
      "outputs": [
        {
          "output_type": "execute_result",
          "data": {
            "text/plain": [
              "(array([3936]),)"
            ]
          },
          "metadata": {
            "tags": []
          },
          "execution_count": 15
        }
      ]
    },
    {
      "cell_type": "code",
      "metadata": {
        "id": "fhpFPm7Zltps",
        "colab_type": "code",
        "colab": {
          "base_uri": "https://localhost:8080/",
          "height": 51
        },
        "outputId": "885a9d97-601b-4f56-ddcd-0c5ce70277f9"
      },
      "source": [
        "print('The mean is: ',u[:,3936].mean())\n",
        "print('The standard deviation is: ',u[:,3936].std())"
      ],
      "execution_count": 16,
      "outputs": [
        {
          "output_type": "stream",
          "text": [
            "The mean is:  9.460341654958771\n",
            "The standard deviation is:  1.1478887344063966\n"
          ],
          "name": "stdout"
        }
      ]
    },
    {
      "cell_type": "markdown",
      "metadata": {
        "id": "UJ9KIilgl35h",
        "colab_type": "text"
      },
      "source": [
        "Some animes have means greater than 9 (with low standard deviation). That means that the algorithm will consistently choose these animes as top recomendations just because their overall scores are so high (as we will see when I show the full algorithm).\n",
        "\n",
        "To solve this, I chose to reduce the values of the animes with mean greater than 9 and greater than 8 by using a weighted mean with those values and the mean of all the animes to give a chance for the lower rated ones to compete. Of course we need to reduce the ratings of the >9-mean animes more than the >8 animes.\n"
      ]
    },
    {
      "cell_type": "code",
      "metadata": {
        "id": "mnxwaV2m4F_7",
        "colab_type": "code",
        "colab": {}
      },
      "source": [
        "#function to reduce the ratings of the best rated anime\n",
        "def squeezing_top_values(u):\n",
        "  p1 = 9        # paremeter to reduce the greater than 9-mean animes\n",
        "  p2 = 200      # paremeter to reduce the greater than 8 and lower than 9 mean animes\n",
        "  index1 = np.where(u.mean(axis=0)>9)\n",
        "  index2 = np.where((u.mean(axis=0)>8) & (u.mean(axis=0)<9))\n",
        "  k = u.mean()\n",
        "  for i in index1:\n",
        "    u[:,i] = (u[:,i]*p1 + k)/(p1+1)\n",
        "  for i in index2:\n",
        "    u[:,i] = (u[:,i]*p2 + k)/(p2+1)\n",
        "  return u\n",
        "\n",
        "\n",
        "u = squeezing_top_values(u)    \n"
      ],
      "execution_count": 17,
      "outputs": []
    },
    {
      "cell_type": "code",
      "metadata": {
        "id": "NTzKsNorm90-",
        "colab_type": "code",
        "colab": {
          "base_uri": "https://localhost:8080/",
          "height": 51
        },
        "outputId": "814385fb-4ee8-4481-a974-7adfb81e7e8a"
      },
      "source": [
        "# Now we have:\n",
        "print('The mean now is: ',u[:,3936].mean())\n",
        "print('The standard deviation now is: ',u[:,3936].std())\n",
        "\n",
        "#That's better!"
      ],
      "execution_count": 18,
      "outputs": [
        {
          "output_type": "stream",
          "text": [
            "The mean now is:  8.988270899372202\n",
            "The standard deviation now is:  1.033099860965757\n"
          ],
          "name": "stdout"
        }
      ]
    },
    {
      "cell_type": "markdown",
      "metadata": {
        "id": "FMGCyJwJy0A9",
        "colab_type": "text"
      },
      "source": [
        "### Let's assign the user input to a vector\n"
      ]
    },
    {
      "cell_type": "code",
      "metadata": {
        "id": "8MFRsQyHy0A-",
        "colab_type": "code",
        "colab": {}
      },
      "source": [
        "''' This function takes the names and the ratings of the animes given \n",
        "by the new user and transforms them to the correct form such that the algorithm\n",
        "will understand\n",
        "'''\n",
        "\n",
        "def user_input_scores(array):\n",
        "    a = []\n",
        "    scores = []\n",
        "    for i in range(0,len(array)):\n",
        "        a.append(anime.loc[anime.name == array[i][0]].anime_id.values[0]) \n",
        "    a = np.array(a)\n",
        "    \n",
        "    for i in range(0,len(anime_id_list) - len(array)):\n",
        "        scores.append(0)\n",
        "    \n",
        "    for i in range(0,len(a)):\n",
        "        index = np.where(anime_id_list == a[i])[0][0]\n",
        "        scores.insert(index,array[i][1])\n",
        "    scores = np.array(scores)\n",
        "    return scores\n"
      ],
      "execution_count": 19,
      "outputs": []
    },
    {
      "cell_type": "markdown",
      "metadata": {
        "id": "VYiC0_DboNKE",
        "colab_type": "text"
      },
      "source": [
        "### I've written a few customized lists of well known animes to test if the given recomendations make sense."
      ]
    },
    {
      "cell_type": "code",
      "metadata": {
        "id": "ysvh_RRN85M9",
        "colab_type": "code",
        "colab": {}
      },
      "source": [
        "# shonen\n",
        "y1 = [('Death Note',8),('Naruto',10),('Hunter x Hunter (2011)',9)]\n",
        "# sports\n",
        "y2 = [('Haikyuu!!',10),('Diamond no Ace',10)]\n",
        "\n",
        "# Slice of Life\n",
        "y3 = [('Toradora!',10),('Mob Psycho 100',10),('Suzumiya Haruhi no Yuuutsu',9)]\n",
        "\n",
        "# Mecha\n",
        "y4 = [('Code Geass: Hangyaku no Lelouch',10),('Neon Genesis Evangelion',10),('Guilty Crown',9)]\n",
        "\n",
        "# Music\n",
        "y5 = [('Shigatsu wa Kimi no Uso',9),('K-On!',10)]\n",
        "\n",
        "#Kids\n",
        "y6 = [('Pokemon',10),('Digimon Adventure',10)]"
      ],
      "execution_count": 30,
      "outputs": []
    },
    {
      "cell_type": "markdown",
      "metadata": {
        "id": "7mqi6KuNy0BA",
        "colab_type": "text"
      },
      "source": [
        "### Finally, below are all the functions needed to finish the recomendation process. The way that the recomendations will be given is as follows:\n",
        "\n",
        "First, we'll use the KMeans algorithm to Cluster our users and see in which group our new user will be assigned to. To understand this in a high level you could think that the clustering will divide the users between the ones who like more shonen, the ones who like more sports animes and so on...\n",
        "\n",
        "Then, we'll know the similar users with our new user.\n",
        "\n",
        " Based on that we'll take the mean of all the animes ratings of those viewers and the recomended shows will be the ones with the highest means, simple isn't it?\n",
        "\n",
        "\n"
      ]
    },
    {
      "cell_type": "code",
      "metadata": {
        "id": "TsVWudufsT4E",
        "colab_type": "code",
        "colab": {}
      },
      "source": [
        "#Function to determine the positions of the animes that the user has seen:\n",
        "\n",
        "def position_seen_animes(y):\n",
        "  scores = user_input_scores(y)\n",
        "  position = np.where(scores!=0)[0]\n",
        "  return position\n",
        "\n",
        "# Function to create an array from the users matrix with only the animes the new user has seen\n",
        "\n",
        "def user_scores_seen_animes(X,y):\n",
        "  positions = position_seen_animes(y)\n",
        "  return X[:,positions]\n",
        "\n",
        "#Function to apply Kmeans algorithm to get similar viewers\n",
        "\n",
        "def similar_users_position(X,y):\n",
        "  \n",
        "  n_clusters = 8 ### The best number after exhaustive tests\n",
        "\n",
        "  X_transformed = user_scores_seen_animes(X,y)\n",
        "  y_transformed = user_input_scores(y)[position_seen_animes(y)].reshape(1,-1)\n",
        "  kmeans = KMeans(n_clusters = n_clusters).fit(X_transformed)\n",
        "  group = kmeans.predict(y_transformed)\n",
        "    \n",
        "  (array_labels,n_labels) = np.unique(kmeans.labels_,return_counts = True) #test to see if the clustering was well done\n",
        "  #print(n_labels,group) -- test to see if the clustering was well done\n",
        "  similar_user_position = np.where(kmeans.labels_ == group)[0]\n",
        "  return similar_user_position\n",
        "\n",
        "\n",
        "#Function to take the mean scores of the similar users in order to rank the animes\n",
        "\n",
        "def mean_scores(X,y):\n",
        "  similar_users_scores = []\n",
        "  \n",
        "  index = similar_users_position(X,y) #similar users positions on the user matrix\n",
        "  scores = np.zeros(len(anime_id_list)) #inicializing \n",
        "\n",
        "  for i in index:\n",
        "    similar_users_scores.append(X[i])\n",
        "\n",
        "  similar_users_scores = np.array(similar_users_scores)\n",
        "\n",
        "  mean_scores = similar_users_scores.sum(axis = 0)/similar_users_scores.shape[0] # Getting the mean_scores\n",
        "\n",
        "  return mean_scores\n",
        "\n",
        "#Function to determine the positions of the best rated shows\n",
        "\n",
        "def best_rated_shows(X,y):\n",
        "  mean_marks = mean_scores(X,y)\n",
        "  index = np.flip(anime_id_list[np.argsort(mean_marks)[-10:]]) ### Choose how many recommendations will be displayed\n",
        "  return index\n",
        "\n",
        "#Function to determine the names of the best rated shows\n",
        "\n",
        "def names_best_rated_shows(X,y):\n",
        "  index = best_rated_shows(X,y)\n",
        "  print('The best recommendations for you are:\\n')\n",
        "  for i in index:\n",
        "        print(anime.loc[anime.anime_id == i,['name']].values[0][0])\n",
        "        print('')\n",
        "\n",
        "\n",
        "\n",
        "\n",
        "\n",
        "\n"
      ],
      "execution_count": 21,
      "outputs": []
    },
    {
      "cell_type": "markdown",
      "metadata": {
        "id": "ooDtlyr7PD9R",
        "colab_type": "text"
      },
      "source": [
        "## We're good to go to use our algorithm! Let's print the recommendations for different types of users!"
      ]
    },
    {
      "cell_type": "code",
      "metadata": {
        "id": "1rwv13Mk2lQN",
        "colab_type": "code",
        "colab": {
          "base_uri": "https://localhost:8080/",
          "height": 391
        },
        "outputId": "1112c385-a21d-4ca5-f62a-764538c49137"
      },
      "source": [
        "# Shonen\n",
        "r1 = names_best_rated_shows(u,y1)"
      ],
      "execution_count": 22,
      "outputs": [
        {
          "output_type": "stream",
          "text": [
            "The best recommendations for you are:\n",
            "\n",
            "Death Note\n",
            "\n",
            "Naruto\n",
            "\n",
            "Shingeki no Kyojin\n",
            "\n",
            "Fullmetal Alchemist: Brotherhood\n",
            "\n",
            "Gintama&#039;: Enchousen\n",
            "\n",
            "Shigatsu wa Kimi no Uso\n",
            "\n",
            "Katekyo Hitman Reborn!\n",
            "\n",
            "Bleach\n",
            "\n",
            "Rainbow: Nisha Rokubou no Shichinin\n",
            "\n",
            "Howl no Ugoku Shiro\n",
            "\n"
          ],
          "name": "stdout"
        }
      ]
    },
    {
      "cell_type": "code",
      "metadata": {
        "id": "CbnDjnd1ma2Q",
        "colab_type": "code",
        "colab": {
          "base_uri": "https://localhost:8080/",
          "height": 391
        },
        "outputId": "5fb7d511-b26a-4bfc-9968-e9318e6ddb8a"
      },
      "source": [
        "# Sport\n",
        "r2 = names_best_rated_shows(u,y2)"
      ],
      "execution_count": 23,
      "outputs": [
        {
          "output_type": "stream",
          "text": [
            "The best recommendations for you are:\n",
            "\n",
            "Diamond no Ace: Second Season\n",
            "\n",
            "Diamond no Ace\n",
            "\n",
            "Katekyo Hitman Reborn!\n",
            "\n",
            "Ookami Kodomo no Ame to Yuki\n",
            "\n",
            "Haikyuu!!: Karasuno Koukou VS Shiratorizawa Gakuen Koukou\n",
            "\n",
            "Shigatsu wa Kimi no Uso\n",
            "\n",
            "Kuroko no Basket 2nd Season\n",
            "\n",
            "Haikyuu!! Second Season\n",
            "\n",
            "Fullmetal Alchemist: Brotherhood\n",
            "\n",
            "Rainbow: Nisha Rokubou no Shichinin\n",
            "\n"
          ],
          "name": "stdout"
        }
      ]
    },
    {
      "cell_type": "code",
      "metadata": {
        "id": "uJll19OcnISd",
        "colab_type": "code",
        "colab": {
          "base_uri": "https://localhost:8080/",
          "height": 391
        },
        "outputId": "11daee08-1c48-4d63-a372-0ca569914067"
      },
      "source": [
        "# Slice of life\n",
        "r3 = names_best_rated_shows(u,y3)"
      ],
      "execution_count": 24,
      "outputs": [
        {
          "output_type": "stream",
          "text": [
            "The best recommendations for you are:\n",
            "\n",
            "Suzumiya Haruhi no Shoushitsu\n",
            "\n",
            "Gintama&#039;: Enchousen\n",
            "\n",
            "Steins;Gate Movie: Fuka Ryouiki no Déjà vu\n",
            "\n",
            "Kara no Kyoukai 7: Satsujin Kousatsu (Kou)\n",
            "\n",
            "Kara no Kyoukai 5: Mujun Rasen\n",
            "\n",
            "Ookami Kodomo no Ame to Yuki\n",
            "\n",
            "One Punch Man\n",
            "\n",
            "Mushishi\n",
            "\n",
            "Mushishi Zoku Shou 2nd Season\n",
            "\n",
            "Fate/Zero 2nd Season\n",
            "\n"
          ],
          "name": "stdout"
        }
      ]
    },
    {
      "cell_type": "code",
      "metadata": {
        "id": "tq8cjtCKSM14",
        "colab_type": "code",
        "colab": {
          "base_uri": "https://localhost:8080/",
          "height": 391
        },
        "outputId": "5834d099-ec0c-478c-aabb-ee96c828537e"
      },
      "source": [
        "# Mecha\n",
        "r4 = names_best_rated_shows(u,y4) "
      ],
      "execution_count": 25,
      "outputs": [
        {
          "output_type": "stream",
          "text": [
            "The best recommendations for you are:\n",
            "\n",
            "Neon Genesis Evangelion\n",
            "\n",
            "Neon Genesis Evangelion: The End of Evangelion\n",
            "\n",
            "Evangelion: 2.0 You Can (Not) Advance\n",
            "\n",
            "Evangelion: 1.0 You Are (Not) Alone\n",
            "\n",
            "Shigatsu wa Kimi no Uso\n",
            "\n",
            "Ginga Nagareboshi Gin\n",
            "\n",
            "Monster\n",
            "\n",
            "Rurouni Kenshin: Meiji Kenkaku Romantan - Tsuioku-hen\n",
            "\n",
            "Cowboy Bebop\n",
            "\n",
            "Tengen Toppa Gurren Lagann\n",
            "\n"
          ],
          "name": "stdout"
        }
      ]
    },
    {
      "cell_type": "code",
      "metadata": {
        "id": "hdmq4sraSbSb",
        "colab_type": "code",
        "colab": {
          "base_uri": "https://localhost:8080/",
          "height": 391
        },
        "outputId": "a0b937c9-b1cb-4bf8-c69f-c35e4726278e"
      },
      "source": [
        "# Music\n",
        "r5 = names_best_rated_shows(u,y5)"
      ],
      "execution_count": 26,
      "outputs": [
        {
          "output_type": "stream",
          "text": [
            "The best recommendations for you are:\n",
            "\n",
            "K-On!!\n",
            "\n",
            "K-On!\n",
            "\n",
            "K-On! Movie\n",
            "\n",
            "Shigatsu wa Kimi no Uso\n",
            "\n",
            "K-On!: Live House!\n",
            "\n",
            "Sakurasou no Pet na Kanojo\n",
            "\n",
            "Ano Hi Mita Hana no Namae wo Bokutachi wa Mada Shiranai.\n",
            "\n",
            "Nichijou\n",
            "\n",
            "Clannad\n",
            "\n",
            "Bakuman. 3rd Season\n",
            "\n"
          ],
          "name": "stdout"
        }
      ]
    },
    {
      "cell_type": "code",
      "metadata": {
        "id": "waZWiJMxSseb",
        "colab_type": "code",
        "colab": {
          "base_uri": "https://localhost:8080/",
          "height": 391
        },
        "outputId": "49714c87-a436-4a37-d863-7ec9f4524e47"
      },
      "source": [
        "# Kids\n",
        "r6 = names_best_rated_shows(u,y6)"
      ],
      "execution_count": 31,
      "outputs": [
        {
          "output_type": "stream",
          "text": [
            "The best recommendations for you are:\n",
            "\n",
            "Digimon Adventure\n",
            "\n",
            "Pokemon: Mewtwo no Gyakushuu\n",
            "\n",
            "Pokemon\n",
            "\n",
            "Digimon Adventure: Bokura no War Game!\n",
            "\n",
            "Ginga Nagareboshi Gin\n",
            "\n",
            "Pokemon: Maboroshi no Pokemon Lugia Bakutan\n",
            "\n",
            "Rainbow: Nisha Rokubou no Shichinin\n",
            "\n",
            "Dragon Ball Z\n",
            "\n",
            "Howl no Ugoku Shiro\n",
            "\n",
            "Katekyo Hitman Reborn!\n",
            "\n"
          ],
          "name": "stdout"
        }
      ]
    },
    {
      "cell_type": "markdown",
      "metadata": {
        "id": "ozruxzTTVtIu",
        "colab_type": "text"
      },
      "source": [
        "### Considerations and Future Work\n",
        "\n",
        "* The algorithm is quite sensitive to changes in the scores entered by the user and works best with few animes (1-3) and high scores (>8)\n",
        "\n",
        "* The algorithm could improve if other factors are considered, such as the genre and the watched but not rated animes\n",
        "\n",
        "### Thanks a lot for your time reading this Notebook! Feel free to message me!"
      ]
    }
  ]
}